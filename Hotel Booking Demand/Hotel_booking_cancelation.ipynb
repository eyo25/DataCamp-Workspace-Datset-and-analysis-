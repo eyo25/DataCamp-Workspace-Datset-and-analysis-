{
 "cells": [
  {
   "cell_type": "code",
   "execution_count": 1,
   "id": "a0f0be66-05b4-4b60-a388-84f7c08aa244",
   "metadata": {},
   "outputs": [],
   "source": [
    "import numpy as np\n",
    "import pandas as pd\n",
    "import matplotlib.pyplot as plt\n",
    "import seaborn as sns \n",
    "from sklearn.model_selection import train_test_split,  KFold, GridSearchCV\n",
    "from sklearn.preprocessing import StandardScaler\n",
    "from sklearn.linear_model import LogisticRegression\n",
    "from sklearn.neighbors import KNeighborsClassifier\n",
    "from sklearn.tree import DecisionTreeClassifier\n",
    "from sklearn.ensemble import RandomForestClassifier\n",
    "from sklearn.ensemble import GradientBoostingClassifier\n",
    "from sklearn.metrics import classification_report\n",
    "from sklearn.metrics import confusion_matrix\n",
    "import shap\n",
    "sns.set_theme(style=\"darkgrid\")"
   ]
  },
  {
   "cell_type": "code",
   "execution_count": 2,
   "id": "bce5a2e4-43e8-411f-b124-8d662aa5b941",
   "metadata": {},
   "outputs": [
    {
     "data": {
      "text/html": [
       "<div>\n",
       "<style scoped>\n",
       "    .dataframe tbody tr th:only-of-type {\n",
       "        vertical-align: middle;\n",
       "    }\n",
       "\n",
       "    .dataframe tbody tr th {\n",
       "        vertical-align: top;\n",
       "    }\n",
       "\n",
       "    .dataframe thead th {\n",
       "        text-align: right;\n",
       "    }\n",
       "</style>\n",
       "<table border=\"1\" class=\"dataframe\">\n",
       "  <thead>\n",
       "    <tr style=\"text-align: right;\">\n",
       "      <th></th>\n",
       "      <th>is_canceled</th>\n",
       "      <th>lead_time</th>\n",
       "      <th>arrival_date_week_number</th>\n",
       "      <th>arrival_date_day_of_month</th>\n",
       "      <th>arrival_date_month</th>\n",
       "      <th>stays_in_weekend_nights</th>\n",
       "      <th>stays_in_week_nights</th>\n",
       "      <th>adults</th>\n",
       "      <th>children</th>\n",
       "      <th>babies</th>\n",
       "      <th>...</th>\n",
       "      <th>reserved_room_type_G</th>\n",
       "      <th>reserved_room_type_H</th>\n",
       "      <th>reserved_room_type_L</th>\n",
       "      <th>deposit_type_No_Deposit</th>\n",
       "      <th>deposit_type_Non_Refund</th>\n",
       "      <th>deposit_type_Refundable</th>\n",
       "      <th>customer_type_Contract</th>\n",
       "      <th>customer_type_Group</th>\n",
       "      <th>customer_type_Transient</th>\n",
       "      <th>customer_type_Transient-Party</th>\n",
       "    </tr>\n",
       "  </thead>\n",
       "  <tbody>\n",
       "    <tr>\n",
       "      <th>0</th>\n",
       "      <td>0</td>\n",
       "      <td>342</td>\n",
       "      <td>27</td>\n",
       "      <td>1</td>\n",
       "      <td>7</td>\n",
       "      <td>0</td>\n",
       "      <td>0</td>\n",
       "      <td>2</td>\n",
       "      <td>0</td>\n",
       "      <td>0</td>\n",
       "      <td>...</td>\n",
       "      <td>0</td>\n",
       "      <td>0</td>\n",
       "      <td>0</td>\n",
       "      <td>1</td>\n",
       "      <td>0</td>\n",
       "      <td>0</td>\n",
       "      <td>0</td>\n",
       "      <td>0</td>\n",
       "      <td>1</td>\n",
       "      <td>0</td>\n",
       "    </tr>\n",
       "    <tr>\n",
       "      <th>1</th>\n",
       "      <td>0</td>\n",
       "      <td>737</td>\n",
       "      <td>27</td>\n",
       "      <td>1</td>\n",
       "      <td>7</td>\n",
       "      <td>0</td>\n",
       "      <td>0</td>\n",
       "      <td>2</td>\n",
       "      <td>0</td>\n",
       "      <td>0</td>\n",
       "      <td>...</td>\n",
       "      <td>0</td>\n",
       "      <td>0</td>\n",
       "      <td>0</td>\n",
       "      <td>1</td>\n",
       "      <td>0</td>\n",
       "      <td>0</td>\n",
       "      <td>0</td>\n",
       "      <td>0</td>\n",
       "      <td>1</td>\n",
       "      <td>0</td>\n",
       "    </tr>\n",
       "    <tr>\n",
       "      <th>2</th>\n",
       "      <td>0</td>\n",
       "      <td>7</td>\n",
       "      <td>27</td>\n",
       "      <td>1</td>\n",
       "      <td>7</td>\n",
       "      <td>0</td>\n",
       "      <td>1</td>\n",
       "      <td>1</td>\n",
       "      <td>0</td>\n",
       "      <td>0</td>\n",
       "      <td>...</td>\n",
       "      <td>0</td>\n",
       "      <td>0</td>\n",
       "      <td>0</td>\n",
       "      <td>1</td>\n",
       "      <td>0</td>\n",
       "      <td>0</td>\n",
       "      <td>0</td>\n",
       "      <td>0</td>\n",
       "      <td>1</td>\n",
       "      <td>0</td>\n",
       "    </tr>\n",
       "    <tr>\n",
       "      <th>3</th>\n",
       "      <td>0</td>\n",
       "      <td>13</td>\n",
       "      <td>27</td>\n",
       "      <td>1</td>\n",
       "      <td>7</td>\n",
       "      <td>0</td>\n",
       "      <td>1</td>\n",
       "      <td>1</td>\n",
       "      <td>0</td>\n",
       "      <td>0</td>\n",
       "      <td>...</td>\n",
       "      <td>0</td>\n",
       "      <td>0</td>\n",
       "      <td>0</td>\n",
       "      <td>1</td>\n",
       "      <td>0</td>\n",
       "      <td>0</td>\n",
       "      <td>0</td>\n",
       "      <td>0</td>\n",
       "      <td>1</td>\n",
       "      <td>0</td>\n",
       "    </tr>\n",
       "    <tr>\n",
       "      <th>4</th>\n",
       "      <td>0</td>\n",
       "      <td>14</td>\n",
       "      <td>27</td>\n",
       "      <td>1</td>\n",
       "      <td>7</td>\n",
       "      <td>0</td>\n",
       "      <td>2</td>\n",
       "      <td>2</td>\n",
       "      <td>0</td>\n",
       "      <td>0</td>\n",
       "      <td>...</td>\n",
       "      <td>0</td>\n",
       "      <td>0</td>\n",
       "      <td>0</td>\n",
       "      <td>1</td>\n",
       "      <td>0</td>\n",
       "      <td>0</td>\n",
       "      <td>0</td>\n",
       "      <td>0</td>\n",
       "      <td>1</td>\n",
       "      <td>0</td>\n",
       "    </tr>\n",
       "  </tbody>\n",
       "</table>\n",
       "<p>5 rows × 53 columns</p>\n",
       "</div>"
      ],
      "text/plain": [
       "   is_canceled  lead_time  arrival_date_week_number  \\\n",
       "0            0        342                        27   \n",
       "1            0        737                        27   \n",
       "2            0          7                        27   \n",
       "3            0         13                        27   \n",
       "4            0         14                        27   \n",
       "\n",
       "   arrival_date_day_of_month  arrival_date_month  stays_in_weekend_nights  \\\n",
       "0                          1                   7                        0   \n",
       "1                          1                   7                        0   \n",
       "2                          1                   7                        0   \n",
       "3                          1                   7                        0   \n",
       "4                          1                   7                        0   \n",
       "\n",
       "   stays_in_week_nights  adults  children  babies  ...  reserved_room_type_G  \\\n",
       "0                     0       2         0       0  ...                     0   \n",
       "1                     0       2         0       0  ...                     0   \n",
       "2                     1       1         0       0  ...                     0   \n",
       "3                     1       1         0       0  ...                     0   \n",
       "4                     2       2         0       0  ...                     0   \n",
       "\n",
       "   reserved_room_type_H  reserved_room_type_L  deposit_type_No_Deposit  \\\n",
       "0                     0                     0                        1   \n",
       "1                     0                     0                        1   \n",
       "2                     0                     0                        1   \n",
       "3                     0                     0                        1   \n",
       "4                     0                     0                        1   \n",
       "\n",
       "   deposit_type_Non_Refund  deposit_type_Refundable  customer_type_Contract  \\\n",
       "0                        0                        0                       0   \n",
       "1                        0                        0                       0   \n",
       "2                        0                        0                       0   \n",
       "3                        0                        0                       0   \n",
       "4                        0                        0                       0   \n",
       "\n",
       "   customer_type_Group  customer_type_Transient  customer_type_Transient-Party  \n",
       "0                    0                        1                              0  \n",
       "1                    0                        1                              0  \n",
       "2                    0                        1                              0  \n",
       "3                    0                        1                              0  \n",
       "4                    0                        1                              0  \n",
       "\n",
       "[5 rows x 53 columns]"
      ]
     },
     "execution_count": 2,
     "metadata": {},
     "output_type": "execute_result"
    }
   ],
   "source": [
    "df=pd.read_csv('../Datasets/Hotel_booking.csv')\n",
    "df.head()"
   ]
  },
  {
   "cell_type": "code",
   "execution_count": 3,
   "id": "073d700a-5d93-459e-a600-defee2c78238",
   "metadata": {},
   "outputs": [
    {
     "name": "stdout",
     "output_type": "stream",
     "text": [
      "<class 'pandas.core.frame.DataFrame'>\n",
      "RangeIndex: 377 entries, 0 to 376\n",
      "Data columns (total 53 columns):\n",
      " #   Column                          Non-Null Count  Dtype  \n",
      "---  ------                          --------------  -----  \n",
      " 0   is_canceled                     377 non-null    int64  \n",
      " 1   lead_time                       377 non-null    int64  \n",
      " 2   arrival_date_week_number        377 non-null    int64  \n",
      " 3   arrival_date_day_of_month       377 non-null    int64  \n",
      " 4   arrival_date_month              377 non-null    int64  \n",
      " 5   stays_in_weekend_nights         377 non-null    int64  \n",
      " 6   stays_in_week_nights            377 non-null    int64  \n",
      " 7   adults                          377 non-null    int64  \n",
      " 8   children                        377 non-null    int64  \n",
      " 9   babies                          377 non-null    int64  \n",
      " 10  is_repeated_guest               377 non-null    int64  \n",
      " 11  previous_cancellations          377 non-null    int64  \n",
      " 12  previous_bookings_not_canceled  377 non-null    int64  \n",
      " 13  required_car_parking_spaces     377 non-null    int64  \n",
      " 14  total_of_special_requests       377 non-null    int64  \n",
      " 15  avg_daily_rate                  377 non-null    float64\n",
      " 16  booked_by_company               377 non-null    int64  \n",
      " 17  booked_by_agent                 377 non-null    int64  \n",
      " 18  hotel_City                      377 non-null    int64  \n",
      " 19  hotel_Resort                    377 non-null    int64  \n",
      " 20  meal_BB                         377 non-null    int64  \n",
      " 21  meal_FB                         377 non-null    int64  \n",
      " 22  meal_HB                         377 non-null    int64  \n",
      " 23  meal_No_meal                    377 non-null    int64  \n",
      " 24  market_segment_Aviation         377 non-null    int64  \n",
      " 25  market_segment_Complementary    377 non-null    int64  \n",
      " 26  market_segment_Corporate        377 non-null    int64  \n",
      " 27  market_segment_Direct           377 non-null    int64  \n",
      " 28  market_segment_Groups           377 non-null    int64  \n",
      " 29  market_segment_Offline_TA_TO    377 non-null    int64  \n",
      " 30  market_segment_Online_TA        377 non-null    int64  \n",
      " 31  market_segment_Undefined        377 non-null    int64  \n",
      " 32  distribution_channel_Corporate  377 non-null    int64  \n",
      " 33  distribution_channel_Direct     377 non-null    int64  \n",
      " 34  distribution_channel_GDS        377 non-null    int64  \n",
      " 35  distribution_channel_TA_TO      377 non-null    int64  \n",
      " 36  distribution_channel_Undefined  377 non-null    int64  \n",
      " 37  reserved_room_type_A            377 non-null    int64  \n",
      " 38  reserved_room_type_B            377 non-null    int64  \n",
      " 39  reserved_room_type_C            377 non-null    int64  \n",
      " 40  reserved_room_type_D            377 non-null    int64  \n",
      " 41  reserved_room_type_E            377 non-null    int64  \n",
      " 42  reserved_room_type_F            377 non-null    int64  \n",
      " 43  reserved_room_type_G            377 non-null    int64  \n",
      " 44  reserved_room_type_H            377 non-null    int64  \n",
      " 45  reserved_room_type_L            377 non-null    int64  \n",
      " 46  deposit_type_No_Deposit         377 non-null    int64  \n",
      " 47  deposit_type_Non_Refund         377 non-null    int64  \n",
      " 48  deposit_type_Refundable         377 non-null    int64  \n",
      " 49  customer_type_Contract          377 non-null    int64  \n",
      " 50  customer_type_Group             377 non-null    int64  \n",
      " 51  customer_type_Transient         377 non-null    int64  \n",
      " 52  customer_type_Transient-Party   377 non-null    int64  \n",
      "dtypes: float64(1), int64(52)\n",
      "memory usage: 156.2 KB\n"
     ]
    }
   ],
   "source": [
    "df.info()"
   ]
  },
  {
   "cell_type": "code",
   "execution_count": 4,
   "id": "263ec9e0-d535-42fd-84d6-6ef88fe59148",
   "metadata": {},
   "outputs": [
    {
     "data": {
      "text/plain": [
       "Index(['is_canceled', 'lead_time', 'arrival_date_week_number',\n",
       "       'arrival_date_day_of_month', 'arrival_date_month',\n",
       "       'stays_in_weekend_nights', 'stays_in_week_nights', 'adults', 'children',\n",
       "       'babies', 'is_repeated_guest', 'previous_cancellations',\n",
       "       'previous_bookings_not_canceled', 'required_car_parking_spaces',\n",
       "       'total_of_special_requests', 'avg_daily_rate', 'booked_by_company',\n",
       "       'booked_by_agent', 'hotel_City', 'hotel_Resort', 'meal_BB', 'meal_FB',\n",
       "       'meal_HB', 'meal_No_meal', 'market_segment_Aviation',\n",
       "       'market_segment_Complementary', 'market_segment_Corporate',\n",
       "       'market_segment_Direct', 'market_segment_Groups',\n",
       "       'market_segment_Offline_TA_TO', 'market_segment_Online_TA',\n",
       "       'market_segment_Undefined', 'distribution_channel_Corporate',\n",
       "       'distribution_channel_Direct', 'distribution_channel_GDS',\n",
       "       'distribution_channel_TA_TO', 'distribution_channel_Undefined',\n",
       "       'reserved_room_type_A', 'reserved_room_type_B', 'reserved_room_type_C',\n",
       "       'reserved_room_type_D', 'reserved_room_type_E', 'reserved_room_type_F',\n",
       "       'reserved_room_type_G', 'reserved_room_type_H', 'reserved_room_type_L',\n",
       "       'deposit_type_No_Deposit', 'deposit_type_Non_Refund',\n",
       "       'deposit_type_Refundable', 'customer_type_Contract',\n",
       "       'customer_type_Group', 'customer_type_Transient',\n",
       "       'customer_type_Transient-Party'],\n",
       "      dtype='object')"
      ]
     },
     "execution_count": 4,
     "metadata": {},
     "output_type": "execute_result"
    }
   ],
   "source": [
    "df.columns"
   ]
  },
  {
   "cell_type": "code",
   "execution_count": 5,
   "id": "9b80549b-44af-442f-8169-fbd504cc37a4",
   "metadata": {},
   "outputs": [
    {
     "data": {
      "text/html": [
       "<div>\n",
       "<style scoped>\n",
       "    .dataframe tbody tr th:only-of-type {\n",
       "        vertical-align: middle;\n",
       "    }\n",
       "\n",
       "    .dataframe tbody tr th {\n",
       "        vertical-align: top;\n",
       "    }\n",
       "\n",
       "    .dataframe thead th {\n",
       "        text-align: right;\n",
       "    }\n",
       "</style>\n",
       "<table border=\"1\" class=\"dataframe\">\n",
       "  <thead>\n",
       "    <tr style=\"text-align: right;\">\n",
       "      <th></th>\n",
       "      <th>is_canceled</th>\n",
       "      <th>lead_time</th>\n",
       "      <th>arrival_date_week_number</th>\n",
       "      <th>arrival_date_day_of_month</th>\n",
       "      <th>arrival_date_month</th>\n",
       "      <th>stays_in_weekend_nights</th>\n",
       "      <th>stays_in_week_nights</th>\n",
       "      <th>adults</th>\n",
       "      <th>children</th>\n",
       "      <th>babies</th>\n",
       "      <th>...</th>\n",
       "      <th>reserved_room_type_G</th>\n",
       "      <th>reserved_room_type_H</th>\n",
       "      <th>reserved_room_type_L</th>\n",
       "      <th>deposit_type_No_Deposit</th>\n",
       "      <th>deposit_type_Non_Refund</th>\n",
       "      <th>deposit_type_Refundable</th>\n",
       "      <th>customer_type_Contract</th>\n",
       "      <th>customer_type_Group</th>\n",
       "      <th>customer_type_Transient</th>\n",
       "      <th>customer_type_Transient-Party</th>\n",
       "    </tr>\n",
       "  </thead>\n",
       "  <tbody>\n",
       "    <tr>\n",
       "      <th>count</th>\n",
       "      <td>377.000000</td>\n",
       "      <td>377.000000</td>\n",
       "      <td>377.000000</td>\n",
       "      <td>377.000000</td>\n",
       "      <td>377.0</td>\n",
       "      <td>377.000000</td>\n",
       "      <td>377.000000</td>\n",
       "      <td>377.000000</td>\n",
       "      <td>377.000000</td>\n",
       "      <td>377.000000</td>\n",
       "      <td>...</td>\n",
       "      <td>377.000000</td>\n",
       "      <td>377.000000</td>\n",
       "      <td>377.000000</td>\n",
       "      <td>377.0</td>\n",
       "      <td>377.0</td>\n",
       "      <td>377.0</td>\n",
       "      <td>377.000000</td>\n",
       "      <td>377.0</td>\n",
       "      <td>377.000000</td>\n",
       "      <td>377.000000</td>\n",
       "    </tr>\n",
       "    <tr>\n",
       "      <th>mean</th>\n",
       "      <td>0.201592</td>\n",
       "      <td>64.549072</td>\n",
       "      <td>27.838196</td>\n",
       "      <td>6.891247</td>\n",
       "      <td>7.0</td>\n",
       "      <td>1.419098</td>\n",
       "      <td>3.546419</td>\n",
       "      <td>2.013263</td>\n",
       "      <td>0.190981</td>\n",
       "      <td>0.034483</td>\n",
       "      <td>...</td>\n",
       "      <td>0.061008</td>\n",
       "      <td>0.029178</td>\n",
       "      <td>0.002653</td>\n",
       "      <td>1.0</td>\n",
       "      <td>0.0</td>\n",
       "      <td>0.0</td>\n",
       "      <td>0.098143</td>\n",
       "      <td>0.0</td>\n",
       "      <td>0.864721</td>\n",
       "      <td>0.037135</td>\n",
       "    </tr>\n",
       "    <tr>\n",
       "      <th>std</th>\n",
       "      <td>0.401722</td>\n",
       "      <td>69.419465</td>\n",
       "      <td>0.712969</td>\n",
       "      <td>3.952693</td>\n",
       "      <td>0.0</td>\n",
       "      <td>1.150604</td>\n",
       "      <td>2.338074</td>\n",
       "      <td>0.382231</td>\n",
       "      <td>0.718763</td>\n",
       "      <td>0.196727</td>\n",
       "      <td>...</td>\n",
       "      <td>0.239663</td>\n",
       "      <td>0.168528</td>\n",
       "      <td>0.051503</td>\n",
       "      <td>0.0</td>\n",
       "      <td>0.0</td>\n",
       "      <td>0.0</td>\n",
       "      <td>0.297904</td>\n",
       "      <td>0.0</td>\n",
       "      <td>0.342475</td>\n",
       "      <td>0.189345</td>\n",
       "    </tr>\n",
       "    <tr>\n",
       "      <th>min</th>\n",
       "      <td>0.000000</td>\n",
       "      <td>0.000000</td>\n",
       "      <td>27.000000</td>\n",
       "      <td>1.000000</td>\n",
       "      <td>7.0</td>\n",
       "      <td>0.000000</td>\n",
       "      <td>0.000000</td>\n",
       "      <td>1.000000</td>\n",
       "      <td>0.000000</td>\n",
       "      <td>0.000000</td>\n",
       "      <td>...</td>\n",
       "      <td>0.000000</td>\n",
       "      <td>0.000000</td>\n",
       "      <td>0.000000</td>\n",
       "      <td>1.0</td>\n",
       "      <td>0.0</td>\n",
       "      <td>0.0</td>\n",
       "      <td>0.000000</td>\n",
       "      <td>0.0</td>\n",
       "      <td>0.000000</td>\n",
       "      <td>0.000000</td>\n",
       "    </tr>\n",
       "    <tr>\n",
       "      <th>25%</th>\n",
       "      <td>0.000000</td>\n",
       "      <td>21.000000</td>\n",
       "      <td>27.000000</td>\n",
       "      <td>3.000000</td>\n",
       "      <td>7.0</td>\n",
       "      <td>0.000000</td>\n",
       "      <td>2.000000</td>\n",
       "      <td>2.000000</td>\n",
       "      <td>0.000000</td>\n",
       "      <td>0.000000</td>\n",
       "      <td>...</td>\n",
       "      <td>0.000000</td>\n",
       "      <td>0.000000</td>\n",
       "      <td>0.000000</td>\n",
       "      <td>1.0</td>\n",
       "      <td>0.0</td>\n",
       "      <td>0.0</td>\n",
       "      <td>0.000000</td>\n",
       "      <td>0.0</td>\n",
       "      <td>1.000000</td>\n",
       "      <td>0.000000</td>\n",
       "    </tr>\n",
       "    <tr>\n",
       "      <th>50%</th>\n",
       "      <td>0.000000</td>\n",
       "      <td>54.000000</td>\n",
       "      <td>28.000000</td>\n",
       "      <td>6.000000</td>\n",
       "      <td>7.0</td>\n",
       "      <td>2.000000</td>\n",
       "      <td>3.000000</td>\n",
       "      <td>2.000000</td>\n",
       "      <td>0.000000</td>\n",
       "      <td>0.000000</td>\n",
       "      <td>...</td>\n",
       "      <td>0.000000</td>\n",
       "      <td>0.000000</td>\n",
       "      <td>0.000000</td>\n",
       "      <td>1.0</td>\n",
       "      <td>0.0</td>\n",
       "      <td>0.0</td>\n",
       "      <td>0.000000</td>\n",
       "      <td>0.0</td>\n",
       "      <td>1.000000</td>\n",
       "      <td>0.000000</td>\n",
       "    </tr>\n",
       "    <tr>\n",
       "      <th>75%</th>\n",
       "      <td>0.000000</td>\n",
       "      <td>92.000000</td>\n",
       "      <td>28.000000</td>\n",
       "      <td>11.000000</td>\n",
       "      <td>7.0</td>\n",
       "      <td>2.000000</td>\n",
       "      <td>5.000000</td>\n",
       "      <td>2.000000</td>\n",
       "      <td>0.000000</td>\n",
       "      <td>0.000000</td>\n",
       "      <td>...</td>\n",
       "      <td>0.000000</td>\n",
       "      <td>0.000000</td>\n",
       "      <td>0.000000</td>\n",
       "      <td>1.0</td>\n",
       "      <td>0.0</td>\n",
       "      <td>0.0</td>\n",
       "      <td>0.000000</td>\n",
       "      <td>0.0</td>\n",
       "      <td>1.000000</td>\n",
       "      <td>0.000000</td>\n",
       "    </tr>\n",
       "    <tr>\n",
       "      <th>max</th>\n",
       "      <td>1.000000</td>\n",
       "      <td>737.000000</td>\n",
       "      <td>29.000000</td>\n",
       "      <td>13.000000</td>\n",
       "      <td>7.0</td>\n",
       "      <td>6.000000</td>\n",
       "      <td>15.000000</td>\n",
       "      <td>4.000000</td>\n",
       "      <td>10.000000</td>\n",
       "      <td>2.000000</td>\n",
       "      <td>...</td>\n",
       "      <td>1.000000</td>\n",
       "      <td>1.000000</td>\n",
       "      <td>1.000000</td>\n",
       "      <td>1.0</td>\n",
       "      <td>0.0</td>\n",
       "      <td>0.0</td>\n",
       "      <td>1.000000</td>\n",
       "      <td>0.0</td>\n",
       "      <td>1.000000</td>\n",
       "      <td>1.000000</td>\n",
       "    </tr>\n",
       "  </tbody>\n",
       "</table>\n",
       "<p>8 rows × 53 columns</p>\n",
       "</div>"
      ],
      "text/plain": [
       "       is_canceled   lead_time  arrival_date_week_number  \\\n",
       "count   377.000000  377.000000                377.000000   \n",
       "mean      0.201592   64.549072                 27.838196   \n",
       "std       0.401722   69.419465                  0.712969   \n",
       "min       0.000000    0.000000                 27.000000   \n",
       "25%       0.000000   21.000000                 27.000000   \n",
       "50%       0.000000   54.000000                 28.000000   \n",
       "75%       0.000000   92.000000                 28.000000   \n",
       "max       1.000000  737.000000                 29.000000   \n",
       "\n",
       "       arrival_date_day_of_month  arrival_date_month  stays_in_weekend_nights  \\\n",
       "count                 377.000000               377.0               377.000000   \n",
       "mean                    6.891247                 7.0                 1.419098   \n",
       "std                     3.952693                 0.0                 1.150604   \n",
       "min                     1.000000                 7.0                 0.000000   \n",
       "25%                     3.000000                 7.0                 0.000000   \n",
       "50%                     6.000000                 7.0                 2.000000   \n",
       "75%                    11.000000                 7.0                 2.000000   \n",
       "max                    13.000000                 7.0                 6.000000   \n",
       "\n",
       "       stays_in_week_nights      adults    children      babies  ...  \\\n",
       "count            377.000000  377.000000  377.000000  377.000000  ...   \n",
       "mean               3.546419    2.013263    0.190981    0.034483  ...   \n",
       "std                2.338074    0.382231    0.718763    0.196727  ...   \n",
       "min                0.000000    1.000000    0.000000    0.000000  ...   \n",
       "25%                2.000000    2.000000    0.000000    0.000000  ...   \n",
       "50%                3.000000    2.000000    0.000000    0.000000  ...   \n",
       "75%                5.000000    2.000000    0.000000    0.000000  ...   \n",
       "max               15.000000    4.000000   10.000000    2.000000  ...   \n",
       "\n",
       "       reserved_room_type_G  reserved_room_type_H  reserved_room_type_L  \\\n",
       "count            377.000000            377.000000            377.000000   \n",
       "mean               0.061008              0.029178              0.002653   \n",
       "std                0.239663              0.168528              0.051503   \n",
       "min                0.000000              0.000000              0.000000   \n",
       "25%                0.000000              0.000000              0.000000   \n",
       "50%                0.000000              0.000000              0.000000   \n",
       "75%                0.000000              0.000000              0.000000   \n",
       "max                1.000000              1.000000              1.000000   \n",
       "\n",
       "       deposit_type_No_Deposit  deposit_type_Non_Refund  \\\n",
       "count                    377.0                    377.0   \n",
       "mean                       1.0                      0.0   \n",
       "std                        0.0                      0.0   \n",
       "min                        1.0                      0.0   \n",
       "25%                        1.0                      0.0   \n",
       "50%                        1.0                      0.0   \n",
       "75%                        1.0                      0.0   \n",
       "max                        1.0                      0.0   \n",
       "\n",
       "       deposit_type_Refundable  customer_type_Contract  customer_type_Group  \\\n",
       "count                    377.0              377.000000                377.0   \n",
       "mean                       0.0                0.098143                  0.0   \n",
       "std                        0.0                0.297904                  0.0   \n",
       "min                        0.0                0.000000                  0.0   \n",
       "25%                        0.0                0.000000                  0.0   \n",
       "50%                        0.0                0.000000                  0.0   \n",
       "75%                        0.0                0.000000                  0.0   \n",
       "max                        0.0                1.000000                  0.0   \n",
       "\n",
       "       customer_type_Transient  customer_type_Transient-Party  \n",
       "count               377.000000                     377.000000  \n",
       "mean                  0.864721                       0.037135  \n",
       "std                   0.342475                       0.189345  \n",
       "min                   0.000000                       0.000000  \n",
       "25%                   1.000000                       0.000000  \n",
       "50%                   1.000000                       0.000000  \n",
       "75%                   1.000000                       0.000000  \n",
       "max                   1.000000                       1.000000  \n",
       "\n",
       "[8 rows x 53 columns]"
      ]
     },
     "execution_count": 5,
     "metadata": {},
     "output_type": "execute_result"
    }
   ],
   "source": [
    "df.describe()"
   ]
  },
  {
   "cell_type": "code",
   "execution_count": 6,
   "id": "e6387702-df08-4263-a074-d3e03647a174",
   "metadata": {
    "tags": []
   },
   "outputs": [
    {
     "data": {
      "text/plain": [
       "0     337\n",
       "2      23\n",
       "1      16\n",
       "10      1\n",
       "Name: children, dtype: int64"
      ]
     },
     "execution_count": 6,
     "metadata": {},
     "output_type": "execute_result"
    }
   ],
   "source": [
    "df.children.value_counts()"
   ]
  },
  {
   "cell_type": "code",
   "execution_count": 7,
   "id": "0fa5c7eb-07a4-425e-b35d-2d8e11a71e96",
   "metadata": {},
   "outputs": [
    {
     "data": {
      "text/plain": [
       "2    328\n",
       "3     24\n",
       "1     23\n",
       "4      2\n",
       "Name: adults, dtype: int64"
      ]
     },
     "execution_count": 7,
     "metadata": {},
     "output_type": "execute_result"
    }
   ],
   "source": [
    "df.adults.value_counts()"
   ]
  },
  {
   "cell_type": "code",
   "execution_count": 8,
   "id": "de19495e-825d-4b53-a014-a26a91fd9e00",
   "metadata": {},
   "outputs": [
    {
     "data": {
      "text/plain": [
       "0    365\n",
       "1     11\n",
       "2      1\n",
       "Name: babies, dtype: int64"
      ]
     },
     "execution_count": 8,
     "metadata": {},
     "output_type": "execute_result"
    }
   ],
   "source": [
    "df.babies.value_counts()"
   ]
  },
  {
   "cell_type": "markdown",
   "id": "9ac71af6-5f71-48eb-8bf5-f34bc6b95c62",
   "metadata": {},
   "source": [
    "<h1>Which family sizes are associated with the highest cancellation rate?</h1>"
   ]
  },
  {
   "cell_type": "markdown",
   "id": "07b3c71d-2898-472d-814e-5f6bdb057ae6",
   "metadata": {},
   "source": [
    "<h3> the relationship between the number chidren  and  booking  cancellation rate  </h3>"
   ]
  },
  {
   "cell_type": "code",
   "execution_count": 9,
   "id": "0c3fdea6-0542-469b-8b48-eec3b2a10f32",
   "metadata": {},
   "outputs": [
    {
     "data": {
      "text/plain": [
       "<AxesSubplot:xlabel='is_canceled', ylabel='children'>"
      ]
     },
     "execution_count": 9,
     "metadata": {},
     "output_type": "execute_result"
    },
    {
     "data": {
      "image/png": "[encoded data removed]",
      "text/plain": [
       "<Figure size 640x480 with 1 Axes>"
      ]
     },
     "metadata": {},
     "output_type": "display_data"
    }
   ],
   "source": [
    "sns.barplot(data=df, x='is_canceled',y='children')"
   ]
  },
  {
   "cell_type": "markdown",
   "id": "066d31cc-fcc2-4e65-bc9c-ff49df778d9d",
   "metadata": {},
   "source": [
    "<h3> the relationship between the number babies  and  booking  cancellation rate  </h3>"
   ]
  },
  {
   "cell_type": "code",
   "execution_count": 10,
   "id": "b458744d-f684-4d31-b87f-82c2c21ef47a",
   "metadata": {},
   "outputs": [
    {
     "data": {
      "text/plain": [
       "<AxesSubplot:xlabel='is_canceled', ylabel='babies'>"
      ]
     },
     "execution_count": 10,
     "metadata": {},
     "output_type": "execute_result"
    },
    {
     "data": {
      "image/png": "[encoded data removed]",
      "text/plain": [
       "<Figure size 640x480 with 1 Axes>"
      ]
     },
     "metadata": {},
     "output_type": "display_data"
    }
   ],
   "source": [
    "sns.barplot(data=df, x='is_canceled',y='babies')"
   ]
  },
  {
   "cell_type": "markdown",
   "id": "7bf98b10-c4f1-407b-ad82-bd22a6b4214f",
   "metadata": {},
   "source": [
    "<h3> the relationship between the number chidren  and  booking  cancellation rate  </h3>"
   ]
  },
  {
   "cell_type": "code",
   "execution_count": 11,
   "id": "6acce06b-1a7f-4a14-8d19-ba326e703c89",
   "metadata": {},
   "outputs": [
    {
     "data": {
      "text/plain": [
       "<AxesSubplot:xlabel='is_canceled', ylabel='adults'>"
      ]
     },
     "execution_count": 11,
     "metadata": {},
     "output_type": "execute_result"
    },
    {
     "data": {
      "image/png": "[encoded data removed]",
      "text/plain": [
       "<Figure size 640x480 with 1 Axes>"
      ]
     },
     "metadata": {},
     "output_type": "display_data"
    }
   ],
   "source": [
    "sns.barplot(data=df, x='is_canceled',y='adults')"
   ]
  },
  {
   "cell_type": "markdown",
   "id": "e81d4509-cd75-434c-b43c-aec5fbb9b085",
   "metadata": {},
   "source": [
    "<h3>  acconding to the graph customers who book for babies will most likely cancel their booking   </h3>"
   ]
  },
  {
   "cell_type": "markdown",
   "id": "34283600-9b48-4353-9043-28736665bc0b",
   "metadata": {},
   "source": [
    "<h1>Create a plot that visualizes the cancellation rates of different times of the year</h1>"
   ]
  },
  {
   "cell_type": "code",
   "execution_count": 12,
   "id": "52aa2b37-3c3e-429c-9197-8f4f5bbc67cb",
   "metadata": {},
   "outputs": [
    {
     "data": {
      "text/plain": [
       "7    377\n",
       "Name: arrival_date_month, dtype: int64"
      ]
     },
     "execution_count": 12,
     "metadata": {},
     "output_type": "execute_result"
    }
   ],
   "source": [
    "df.arrival_date_month.value_counts()"
   ]
  },
  {
   "cell_type": "code",
   "execution_count": 13,
   "id": "5bc6fb2c-6f7e-4c3e-8469-ec778cf4b521",
   "metadata": {},
   "outputs": [
    {
     "data": {
      "image/png": "[encoded data removed]",
      "text/plain": [
       "<Figure size 600x500 with 1 Axes>"
      ]
     },
     "metadata": {},
     "output_type": "display_data"
    }
   ],
   "source": [
    "fig, ax = plt.subplots(figsize=(6,5))\n",
    "plt.title('Monthly Bookings')\n",
    "plt.xticks([1,2,3,4,5,6,7,8,9,10,11,12])\n",
    "ax.set_xticklabels(['Jan','Feb','Mar','Apr','May','Jun','Jul','Aug','Sep','Oct','Nov','Dec'])\n",
    "#sns.histplot(df['arrival_date_month'],kde=True)\n",
    "sns.histplot(data=df, x=\"arrival_date_month\", hue=\"is_canceled\",multiple=\"dodge\",binwidth=0.5,discrete=True)\n",
    "plt.show()"
   ]
  },
  {
   "cell_type": "markdown",
   "id": "ee02682d-a756-4ae3-a4fe-30ba6962b08c",
   "metadata": {},
   "source": [
    "<h4>looks like only the month july has activity of booking</h4>"
   ]
  },
  {
   "cell_type": "markdown",
   "id": "e2582727-722d-4417-9026-cc6cade66661",
   "metadata": {
    "tags": []
   },
   "source": [
    "<h1>Are bookings with longer lead times more likely to result in a cancellation</h1>"
   ]
  },
  {
   "cell_type": "code",
   "execution_count": 47,
   "id": "627a11f8-f80d-4993-912b-29c98ef72252",
   "metadata": {},
   "outputs": [
    {
     "data": {
      "text/plain": [
       "-0.931077    19\n",
       "-0.916652    10\n",
       "-0.440650     9\n",
       "-0.195436     9\n",
       "-0.815682     8\n",
       "             ..\n",
       " 2.790399     1\n",
       " 0.006504     1\n",
       " 0.035353     1\n",
       " 3.280826     1\n",
       "-0.382952     1\n",
       "Name: lead_time, Length: 121, dtype: int64"
      ]
     },
     "execution_count": 47,
     "metadata": {},
     "output_type": "execute_result"
    }
   ],
   "source": [
    "df.lead_time.value_counts()"
   ]
  },
  {
   "cell_type": "code",
   "execution_count": 15,
   "id": "cda66528-07b4-4a37-975a-806909b2669c",
   "metadata": {},
   "outputs": [],
   "source": [
    "def filter(x):\n",
    "    if x<=1:\n",
    "        return 'new'\n",
    "    elif x>1 and x<8:\n",
    "        return 'week_ago'\n",
    "    elif x>=8 and x<=30:\n",
    "        return 'month ago'\n",
    "    elif x>30 and x<=60:\n",
    "        return '2 month ago'\n",
    "    if x>60:\n",
    "        return 'very long time'\n",
    "    \n",
    "    "
   ]
  },
  {
   "cell_type": "code",
   "execution_count": 16,
   "id": "2be676b8-4e26-4462-adb6-37a1b1000ab1",
   "metadata": {},
   "outputs": [],
   "source": [
    "df['LeadTime']=df['lead_time'].apply(filter)"
   ]
  },
  {
   "cell_type": "code",
   "execution_count": 17,
   "id": "fb70e1de-6aa8-4577-aa61-244cf810b11f",
   "metadata": {},
   "outputs": [
    {
     "data": {
      "text/plain": [
       "<AxesSubplot:xlabel='LeadTime', ylabel='Count'>"
      ]
     },
     "execution_count": 17,
     "metadata": {},
     "output_type": "execute_result"
    },
    {
     "data": {
      "image/png": "[encoded data removed]",
      "text/plain": [
       "<Figure size 640x480 with 1 Axes>"
      ]
     },
     "metadata": {},
     "output_type": "display_data"
    }
   ],
   "source": [
    "sns.histplot(data=df, x='LeadTime',hue='is_canceled')"
   ]
  },
  {
   "cell_type": "markdown",
   "id": "5af3a4b8-dc76-40dd-a14e-9d9493d3a372",
   "metadata": {},
   "source": [
    "<h4>From the histogram we can learn when the lead time is longer the cancellation rate is bigger but the booking rate is much higer.</h4>"
   ]
  },
  {
   "cell_type": "markdown",
   "id": "1a8ecc3b-de4e-4555-b8ac-f1720e9dd865",
   "metadata": {},
   "source": [
    "<h1>Data Preproccesing<h1>"
   ]
  },
  {
   "cell_type": "code",
   "execution_count": 18,
   "id": "c26767ce-b5f8-466f-9cab-a6e8d0180975",
   "metadata": {},
   "outputs": [
    {
     "data": {
      "text/plain": [
       "is_canceled                       0\n",
       "lead_time                         0\n",
       "arrival_date_week_number          0\n",
       "arrival_date_day_of_month         0\n",
       "arrival_date_month                0\n",
       "stays_in_weekend_nights           0\n",
       "stays_in_week_nights              0\n",
       "adults                            0\n",
       "children                          0\n",
       "babies                            0\n",
       "is_repeated_guest                 0\n",
       "previous_cancellations            0\n",
       "previous_bookings_not_canceled    0\n",
       "required_car_parking_spaces       0\n",
       "total_of_special_requests         0\n",
       "avg_daily_rate                    0\n",
       "booked_by_company                 0\n",
       "booked_by_agent                   0\n",
       "hotel_City                        0\n",
       "hotel_Resort                      0\n",
       "meal_BB                           0\n",
       "meal_FB                           0\n",
       "meal_HB                           0\n",
       "meal_No_meal                      0\n",
       "market_segment_Aviation           0\n",
       "market_segment_Complementary      0\n",
       "market_segment_Corporate          0\n",
       "market_segment_Direct             0\n",
       "market_segment_Groups             0\n",
       "market_segment_Offline_TA_TO      0\n",
       "market_segment_Online_TA          0\n",
       "market_segment_Undefined          0\n",
       "distribution_channel_Corporate    0\n",
       "distribution_channel_Direct       0\n",
       "distribution_channel_GDS          0\n",
       "distribution_channel_TA_TO        0\n",
       "distribution_channel_Undefined    0\n",
       "reserved_room_type_A              0\n",
       "reserved_room_type_B              0\n",
       "reserved_room_type_C              0\n",
       "reserved_room_type_D              0\n",
       "reserved_room_type_E              0\n",
       "reserved_room_type_F              0\n",
       "reserved_room_type_G              0\n",
       "reserved_room_type_H              0\n",
       "reserved_room_type_L              0\n",
       "deposit_type_No_Deposit           0\n",
       "deposit_type_Non_Refund           0\n",
       "deposit_type_Refundable           0\n",
       "customer_type_Contract            0\n",
       "customer_type_Group               0\n",
       "customer_type_Transient           0\n",
       "customer_type_Transient-Party     0\n",
       "LeadTime                          0\n",
       "dtype: int64"
      ]
     },
     "execution_count": 18,
     "metadata": {},
     "output_type": "execute_result"
    }
   ],
   "source": [
    "df.isna().sum()"
   ]
  },
  {
   "cell_type": "code",
   "execution_count": 19,
   "id": "6b8e5176-73ec-4fa0-a1c4-f7963f164784",
   "metadata": {},
   "outputs": [
    {
     "data": {
      "text/plain": [
       "is_canceled                       0\n",
       "lead_time                         0\n",
       "arrival_date_week_number          0\n",
       "arrival_date_day_of_month         0\n",
       "arrival_date_month                0\n",
       "stays_in_weekend_nights           0\n",
       "stays_in_week_nights              0\n",
       "adults                            0\n",
       "children                          0\n",
       "babies                            0\n",
       "is_repeated_guest                 0\n",
       "previous_cancellations            0\n",
       "previous_bookings_not_canceled    0\n",
       "required_car_parking_spaces       0\n",
       "total_of_special_requests         0\n",
       "avg_daily_rate                    0\n",
       "booked_by_company                 0\n",
       "booked_by_agent                   0\n",
       "hotel_City                        0\n",
       "hotel_Resort                      0\n",
       "meal_BB                           0\n",
       "meal_FB                           0\n",
       "meal_HB                           0\n",
       "meal_No_meal                      0\n",
       "market_segment_Aviation           0\n",
       "market_segment_Complementary      0\n",
       "market_segment_Corporate          0\n",
       "market_segment_Direct             0\n",
       "market_segment_Groups             0\n",
       "market_segment_Offline_TA_TO      0\n",
       "market_segment_Online_TA          0\n",
       "market_segment_Undefined          0\n",
       "distribution_channel_Corporate    0\n",
       "distribution_channel_Direct       0\n",
       "distribution_channel_GDS          0\n",
       "distribution_channel_TA_TO        0\n",
       "distribution_channel_Undefined    0\n",
       "reserved_room_type_A              0\n",
       "reserved_room_type_B              0\n",
       "reserved_room_type_C              0\n",
       "reserved_room_type_D              0\n",
       "reserved_room_type_E              0\n",
       "reserved_room_type_F              0\n",
       "reserved_room_type_G              0\n",
       "reserved_room_type_H              0\n",
       "reserved_room_type_L              0\n",
       "deposit_type_No_Deposit           0\n",
       "deposit_type_Non_Refund           0\n",
       "deposit_type_Refundable           0\n",
       "customer_type_Contract            0\n",
       "customer_type_Group               0\n",
       "customer_type_Transient           0\n",
       "customer_type_Transient-Party     0\n",
       "LeadTime                          0\n",
       "dtype: int64"
      ]
     },
     "execution_count": 19,
     "metadata": {},
     "output_type": "execute_result"
    }
   ],
   "source": [
    "df.isna().sum()"
   ]
  },
  {
   "cell_type": "code",
   "execution_count": 20,
   "id": "06b2030c-4f2e-4bd4-af20-c1538c329a83",
   "metadata": {},
   "outputs": [],
   "source": [
    "df=df.drop(['arrival_date_week_number','arrival_date_day_of_month', 'arrival_date_month', 'required_car_parking_spaces','total_of_special_requests','avg_daily_rate','market_segment_Aviation', 'market_segment_Complementary','market_segment_Corporate', 'market_segment_Direct', 'market_segment_Groups','market_segment_Offline_TA_TO','market_segment_Online_TA','market_segment_Undefined','distribution_channel_Corporate','distribution_channel_Direct','distribution_channel_GDS','distribution_channel_TA_TO', 'distribution_channel_Undefined'], axis=1)"
   ]
  },
  {
   "cell_type": "code",
   "execution_count": 33,
   "id": "2744b4bc-80ee-4116-931f-e4bd88fd3bc5",
   "metadata": {},
   "outputs": [],
   "source": [
    "df=df.drop(['LeadTime'], axis=1)"
   ]
  },
  {
   "cell_type": "code",
   "execution_count": 34,
   "id": "4a211f0d-f2ec-4f61-8e04-e3687053288d",
   "metadata": {},
   "outputs": [
    {
     "data": {
      "text/plain": [
       "Index(['is_canceled', 'stays_in_weekend_nights', 'stays_in_week_nights',\n",
       "       'is_repeated_guest', 'previous_cancellations',\n",
       "       'previous_bookings_not_canceled', 'booked_by_company',\n",
       "       'booked_by_agent', 'hotel_City', 'hotel_Resort', 'meal_BB', 'meal_FB',\n",
       "       'meal_HB', 'meal_No_meal', 'reserved_room_type_A',\n",
       "       'reserved_room_type_B', 'reserved_room_type_C', 'reserved_room_type_D',\n",
       "       'reserved_room_type_E', 'reserved_room_type_F', 'reserved_room_type_G',\n",
       "       'reserved_room_type_H', 'reserved_room_type_L',\n",
       "       'deposit_type_No_Deposit', 'deposit_type_Non_Refund',\n",
       "       'deposit_type_Refundable', 'customer_type_Contract',\n",
       "       'customer_type_Group', 'customer_type_Transient',\n",
       "       'customer_type_Transient-Party', 'lead_time', 'adults', 'children',\n",
       "       'babies'],\n",
       "      dtype='object')"
      ]
     },
     "execution_count": 34,
     "metadata": {},
     "output_type": "execute_result"
    }
   ],
   "source": [
    "df.columns"
   ]
  },
  {
   "cell_type": "code",
   "execution_count": 35,
   "id": "64a9a195-40af-4f07-bbb6-d4001e842930",
   "metadata": {},
   "outputs": [
    {
     "data": {
      "text/html": [
       "<div>\n",
       "<style scoped>\n",
       "    .dataframe tbody tr th:only-of-type {\n",
       "        vertical-align: middle;\n",
       "    }\n",
       "\n",
       "    .dataframe tbody tr th {\n",
       "        vertical-align: top;\n",
       "    }\n",
       "\n",
       "    .dataframe thead th {\n",
       "        text-align: right;\n",
       "    }\n",
       "</style>\n",
       "<table border=\"1\" class=\"dataframe\">\n",
       "  <thead>\n",
       "    <tr style=\"text-align: right;\">\n",
       "      <th></th>\n",
       "      <th>is_canceled</th>\n",
       "      <th>stays_in_weekend_nights</th>\n",
       "      <th>stays_in_week_nights</th>\n",
       "      <th>is_repeated_guest</th>\n",
       "      <th>previous_cancellations</th>\n",
       "      <th>previous_bookings_not_canceled</th>\n",
       "      <th>booked_by_company</th>\n",
       "      <th>booked_by_agent</th>\n",
       "      <th>hotel_City</th>\n",
       "      <th>hotel_Resort</th>\n",
       "      <th>...</th>\n",
       "      <th>deposit_type_Non_Refund</th>\n",
       "      <th>deposit_type_Refundable</th>\n",
       "      <th>customer_type_Contract</th>\n",
       "      <th>customer_type_Group</th>\n",
       "      <th>customer_type_Transient</th>\n",
       "      <th>customer_type_Transient-Party</th>\n",
       "      <th>lead_time</th>\n",
       "      <th>adults</th>\n",
       "      <th>children</th>\n",
       "      <th>babies</th>\n",
       "    </tr>\n",
       "  </thead>\n",
       "  <tbody>\n",
       "    <tr>\n",
       "      <th>0</th>\n",
       "      <td>0</td>\n",
       "      <td>0</td>\n",
       "      <td>0</td>\n",
       "      <td>0</td>\n",
       "      <td>0</td>\n",
       "      <td>0</td>\n",
       "      <td>0</td>\n",
       "      <td>0</td>\n",
       "      <td>0</td>\n",
       "      <td>1</td>\n",
       "      <td>...</td>\n",
       "      <td>0</td>\n",
       "      <td>0</td>\n",
       "      <td>0</td>\n",
       "      <td>0</td>\n",
       "      <td>1</td>\n",
       "      <td>0</td>\n",
       "      <td>4.002042</td>\n",
       "      <td>-0.034744</td>\n",
       "      <td>-0.266062</td>\n",
       "      <td>-0.175515</td>\n",
       "    </tr>\n",
       "    <tr>\n",
       "      <th>1</th>\n",
       "      <td>0</td>\n",
       "      <td>0</td>\n",
       "      <td>0</td>\n",
       "      <td>0</td>\n",
       "      <td>0</td>\n",
       "      <td>0</td>\n",
       "      <td>0</td>\n",
       "      <td>0</td>\n",
       "      <td>0</td>\n",
       "      <td>1</td>\n",
       "      <td>...</td>\n",
       "      <td>0</td>\n",
       "      <td>0</td>\n",
       "      <td>0</td>\n",
       "      <td>0</td>\n",
       "      <td>1</td>\n",
       "      <td>0</td>\n",
       "      <td>9.699651</td>\n",
       "      <td>-0.034744</td>\n",
       "      <td>-0.266062</td>\n",
       "      <td>-0.175515</td>\n",
       "    </tr>\n",
       "    <tr>\n",
       "      <th>2</th>\n",
       "      <td>0</td>\n",
       "      <td>0</td>\n",
       "      <td>1</td>\n",
       "      <td>0</td>\n",
       "      <td>0</td>\n",
       "      <td>0</td>\n",
       "      <td>0</td>\n",
       "      <td>0</td>\n",
       "      <td>0</td>\n",
       "      <td>1</td>\n",
       "      <td>...</td>\n",
       "      <td>0</td>\n",
       "      <td>0</td>\n",
       "      <td>0</td>\n",
       "      <td>0</td>\n",
       "      <td>1</td>\n",
       "      <td>0</td>\n",
       "      <td>-0.830106</td>\n",
       "      <td>-2.654442</td>\n",
       "      <td>-0.266062</td>\n",
       "      <td>-0.175515</td>\n",
       "    </tr>\n",
       "    <tr>\n",
       "      <th>3</th>\n",
       "      <td>0</td>\n",
       "      <td>0</td>\n",
       "      <td>1</td>\n",
       "      <td>0</td>\n",
       "      <td>0</td>\n",
       "      <td>0</td>\n",
       "      <td>0</td>\n",
       "      <td>1</td>\n",
       "      <td>0</td>\n",
       "      <td>1</td>\n",
       "      <td>...</td>\n",
       "      <td>0</td>\n",
       "      <td>0</td>\n",
       "      <td>0</td>\n",
       "      <td>0</td>\n",
       "      <td>1</td>\n",
       "      <td>0</td>\n",
       "      <td>-0.743561</td>\n",
       "      <td>-2.654442</td>\n",
       "      <td>-0.266062</td>\n",
       "      <td>-0.175515</td>\n",
       "    </tr>\n",
       "    <tr>\n",
       "      <th>4</th>\n",
       "      <td>0</td>\n",
       "      <td>0</td>\n",
       "      <td>2</td>\n",
       "      <td>0</td>\n",
       "      <td>0</td>\n",
       "      <td>0</td>\n",
       "      <td>0</td>\n",
       "      <td>1</td>\n",
       "      <td>0</td>\n",
       "      <td>1</td>\n",
       "      <td>...</td>\n",
       "      <td>0</td>\n",
       "      <td>0</td>\n",
       "      <td>0</td>\n",
       "      <td>0</td>\n",
       "      <td>1</td>\n",
       "      <td>0</td>\n",
       "      <td>-0.729136</td>\n",
       "      <td>-0.034744</td>\n",
       "      <td>-0.266062</td>\n",
       "      <td>-0.175515</td>\n",
       "    </tr>\n",
       "  </tbody>\n",
       "</table>\n",
       "<p>5 rows × 34 columns</p>\n",
       "</div>"
      ],
      "text/plain": [
       "   is_canceled  stays_in_weekend_nights  stays_in_week_nights  \\\n",
       "0            0                        0                     0   \n",
       "1            0                        0                     0   \n",
       "2            0                        0                     1   \n",
       "3            0                        0                     1   \n",
       "4            0                        0                     2   \n",
       "\n",
       "   is_repeated_guest  previous_cancellations  previous_bookings_not_canceled  \\\n",
       "0                  0                       0                               0   \n",
       "1                  0                       0                               0   \n",
       "2                  0                       0                               0   \n",
       "3                  0                       0                               0   \n",
       "4                  0                       0                               0   \n",
       "\n",
       "   booked_by_company  booked_by_agent  hotel_City  hotel_Resort  ...  \\\n",
       "0                  0                0           0             1  ...   \n",
       "1                  0                0           0             1  ...   \n",
       "2                  0                0           0             1  ...   \n",
       "3                  0                1           0             1  ...   \n",
       "4                  0                1           0             1  ...   \n",
       "\n",
       "   deposit_type_Non_Refund  deposit_type_Refundable  customer_type_Contract  \\\n",
       "0                        0                        0                       0   \n",
       "1                        0                        0                       0   \n",
       "2                        0                        0                       0   \n",
       "3                        0                        0                       0   \n",
       "4                        0                        0                       0   \n",
       "\n",
       "   customer_type_Group  customer_type_Transient  \\\n",
       "0                    0                        1   \n",
       "1                    0                        1   \n",
       "2                    0                        1   \n",
       "3                    0                        1   \n",
       "4                    0                        1   \n",
       "\n",
       "   customer_type_Transient-Party  lead_time    adults  children    babies  \n",
       "0                              0   4.002042 -0.034744 -0.266062 -0.175515  \n",
       "1                              0   9.699651 -0.034744 -0.266062 -0.175515  \n",
       "2                              0  -0.830106 -2.654442 -0.266062 -0.175515  \n",
       "3                              0  -0.743561 -2.654442 -0.266062 -0.175515  \n",
       "4                              0  -0.729136 -0.034744 -0.266062 -0.175515  \n",
       "\n",
       "[5 rows x 34 columns]"
      ]
     },
     "execution_count": 35,
     "metadata": {},
     "output_type": "execute_result"
    }
   ],
   "source": [
    "df.head()"
   ]
  },
  {
   "cell_type": "code",
   "execution_count": 36,
   "id": "bab247d2-dbea-4471-843d-c5cc4360ed2f",
   "metadata": {},
   "outputs": [],
   "source": [
    "to_scale=['lead_time', 'adults', 'children', 'babies']"
   ]
  },
  {
   "cell_type": "code",
   "execution_count": 37,
   "id": "3a1c5ed1-4a3f-4a2c-8b09-2d032f16001d",
   "metadata": {},
   "outputs": [],
   "source": [
    "std=StandardScaler()\n",
    "scaled=std.fit_transform(df[to_scale])\n",
    "scaled=pd.DataFrame(scaled,columns=to_scale)"
   ]
  },
  {
   "cell_type": "code",
   "execution_count": 38,
   "id": "20a4da2e-133f-46fc-bfbb-fbb125d0d00d",
   "metadata": {},
   "outputs": [
    {
     "data": {
      "text/html": [
       "<div>\n",
       "<style scoped>\n",
       "    .dataframe tbody tr th:only-of-type {\n",
       "        vertical-align: middle;\n",
       "    }\n",
       "\n",
       "    .dataframe tbody tr th {\n",
       "        vertical-align: top;\n",
       "    }\n",
       "\n",
       "    .dataframe thead th {\n",
       "        text-align: right;\n",
       "    }\n",
       "</style>\n",
       "<table border=\"1\" class=\"dataframe\">\n",
       "  <thead>\n",
       "    <tr style=\"text-align: right;\">\n",
       "      <th></th>\n",
       "      <th>is_canceled</th>\n",
       "      <th>stays_in_weekend_nights</th>\n",
       "      <th>stays_in_week_nights</th>\n",
       "      <th>is_repeated_guest</th>\n",
       "      <th>previous_cancellations</th>\n",
       "      <th>previous_bookings_not_canceled</th>\n",
       "      <th>booked_by_company</th>\n",
       "      <th>booked_by_agent</th>\n",
       "      <th>hotel_City</th>\n",
       "      <th>hotel_Resort</th>\n",
       "      <th>...</th>\n",
       "      <th>deposit_type_Non_Refund</th>\n",
       "      <th>deposit_type_Refundable</th>\n",
       "      <th>customer_type_Contract</th>\n",
       "      <th>customer_type_Group</th>\n",
       "      <th>customer_type_Transient</th>\n",
       "      <th>customer_type_Transient-Party</th>\n",
       "      <th>lead_time</th>\n",
       "      <th>adults</th>\n",
       "      <th>children</th>\n",
       "      <th>babies</th>\n",
       "    </tr>\n",
       "  </thead>\n",
       "  <tbody>\n",
       "    <tr>\n",
       "      <th>0</th>\n",
       "      <td>0</td>\n",
       "      <td>0</td>\n",
       "      <td>0</td>\n",
       "      <td>0</td>\n",
       "      <td>0</td>\n",
       "      <td>0</td>\n",
       "      <td>0</td>\n",
       "      <td>0</td>\n",
       "      <td>0</td>\n",
       "      <td>1</td>\n",
       "      <td>...</td>\n",
       "      <td>0</td>\n",
       "      <td>0</td>\n",
       "      <td>0</td>\n",
       "      <td>0</td>\n",
       "      <td>1</td>\n",
       "      <td>0</td>\n",
       "      <td>4.002042</td>\n",
       "      <td>-0.034744</td>\n",
       "      <td>-0.266062</td>\n",
       "      <td>-0.175515</td>\n",
       "    </tr>\n",
       "    <tr>\n",
       "      <th>1</th>\n",
       "      <td>0</td>\n",
       "      <td>0</td>\n",
       "      <td>0</td>\n",
       "      <td>0</td>\n",
       "      <td>0</td>\n",
       "      <td>0</td>\n",
       "      <td>0</td>\n",
       "      <td>0</td>\n",
       "      <td>0</td>\n",
       "      <td>1</td>\n",
       "      <td>...</td>\n",
       "      <td>0</td>\n",
       "      <td>0</td>\n",
       "      <td>0</td>\n",
       "      <td>0</td>\n",
       "      <td>1</td>\n",
       "      <td>0</td>\n",
       "      <td>9.699651</td>\n",
       "      <td>-0.034744</td>\n",
       "      <td>-0.266062</td>\n",
       "      <td>-0.175515</td>\n",
       "    </tr>\n",
       "    <tr>\n",
       "      <th>2</th>\n",
       "      <td>0</td>\n",
       "      <td>0</td>\n",
       "      <td>1</td>\n",
       "      <td>0</td>\n",
       "      <td>0</td>\n",
       "      <td>0</td>\n",
       "      <td>0</td>\n",
       "      <td>0</td>\n",
       "      <td>0</td>\n",
       "      <td>1</td>\n",
       "      <td>...</td>\n",
       "      <td>0</td>\n",
       "      <td>0</td>\n",
       "      <td>0</td>\n",
       "      <td>0</td>\n",
       "      <td>1</td>\n",
       "      <td>0</td>\n",
       "      <td>-0.830106</td>\n",
       "      <td>-2.654442</td>\n",
       "      <td>-0.266062</td>\n",
       "      <td>-0.175515</td>\n",
       "    </tr>\n",
       "    <tr>\n",
       "      <th>3</th>\n",
       "      <td>0</td>\n",
       "      <td>0</td>\n",
       "      <td>1</td>\n",
       "      <td>0</td>\n",
       "      <td>0</td>\n",
       "      <td>0</td>\n",
       "      <td>0</td>\n",
       "      <td>1</td>\n",
       "      <td>0</td>\n",
       "      <td>1</td>\n",
       "      <td>...</td>\n",
       "      <td>0</td>\n",
       "      <td>0</td>\n",
       "      <td>0</td>\n",
       "      <td>0</td>\n",
       "      <td>1</td>\n",
       "      <td>0</td>\n",
       "      <td>-0.743561</td>\n",
       "      <td>-2.654442</td>\n",
       "      <td>-0.266062</td>\n",
       "      <td>-0.175515</td>\n",
       "    </tr>\n",
       "    <tr>\n",
       "      <th>4</th>\n",
       "      <td>0</td>\n",
       "      <td>0</td>\n",
       "      <td>2</td>\n",
       "      <td>0</td>\n",
       "      <td>0</td>\n",
       "      <td>0</td>\n",
       "      <td>0</td>\n",
       "      <td>1</td>\n",
       "      <td>0</td>\n",
       "      <td>1</td>\n",
       "      <td>...</td>\n",
       "      <td>0</td>\n",
       "      <td>0</td>\n",
       "      <td>0</td>\n",
       "      <td>0</td>\n",
       "      <td>1</td>\n",
       "      <td>0</td>\n",
       "      <td>-0.729136</td>\n",
       "      <td>-0.034744</td>\n",
       "      <td>-0.266062</td>\n",
       "      <td>-0.175515</td>\n",
       "    </tr>\n",
       "  </tbody>\n",
       "</table>\n",
       "<p>5 rows × 34 columns</p>\n",
       "</div>"
      ],
      "text/plain": [
       "   is_canceled  stays_in_weekend_nights  stays_in_week_nights  \\\n",
       "0            0                        0                     0   \n",
       "1            0                        0                     0   \n",
       "2            0                        0                     1   \n",
       "3            0                        0                     1   \n",
       "4            0                        0                     2   \n",
       "\n",
       "   is_repeated_guest  previous_cancellations  previous_bookings_not_canceled  \\\n",
       "0                  0                       0                               0   \n",
       "1                  0                       0                               0   \n",
       "2                  0                       0                               0   \n",
       "3                  0                       0                               0   \n",
       "4                  0                       0                               0   \n",
       "\n",
       "   booked_by_company  booked_by_agent  hotel_City  hotel_Resort  ...  \\\n",
       "0                  0                0           0             1  ...   \n",
       "1                  0                0           0             1  ...   \n",
       "2                  0                0           0             1  ...   \n",
       "3                  0                1           0             1  ...   \n",
       "4                  0                1           0             1  ...   \n",
       "\n",
       "   deposit_type_Non_Refund  deposit_type_Refundable  customer_type_Contract  \\\n",
       "0                        0                        0                       0   \n",
       "1                        0                        0                       0   \n",
       "2                        0                        0                       0   \n",
       "3                        0                        0                       0   \n",
       "4                        0                        0                       0   \n",
       "\n",
       "   customer_type_Group  customer_type_Transient  \\\n",
       "0                    0                        1   \n",
       "1                    0                        1   \n",
       "2                    0                        1   \n",
       "3                    0                        1   \n",
       "4                    0                        1   \n",
       "\n",
       "   customer_type_Transient-Party  lead_time    adults  children    babies  \n",
       "0                              0   4.002042 -0.034744 -0.266062 -0.175515  \n",
       "1                              0   9.699651 -0.034744 -0.266062 -0.175515  \n",
       "2                              0  -0.830106 -2.654442 -0.266062 -0.175515  \n",
       "3                              0  -0.743561 -2.654442 -0.266062 -0.175515  \n",
       "4                              0  -0.729136 -0.034744 -0.266062 -0.175515  \n",
       "\n",
       "[5 rows x 34 columns]"
      ]
     },
     "execution_count": 38,
     "metadata": {},
     "output_type": "execute_result"
    }
   ],
   "source": [
    "df=df.drop(columns=to_scale, axis=1)\n",
    "df=df.merge(scaled,left_index=True, right_index=True, how='left')\n",
    "df.head()"
   ]
  },
  {
   "cell_type": "code",
   "execution_count": 39,
   "id": "ec030249-f5cf-4cb0-ac60-2497c125685a",
   "metadata": {},
   "outputs": [],
   "source": [
    "X=df.drop(['is_canceled'], axis=1)"
   ]
  },
  {
   "cell_type": "code",
   "execution_count": 40,
   "id": "dfc68246-8871-4f58-98a2-27052305f4ac",
   "metadata": {},
   "outputs": [
    {
     "data": {
      "text/plain": [
       "Index(['stays_in_weekend_nights', 'stays_in_week_nights', 'is_repeated_guest',\n",
       "       'previous_cancellations', 'previous_bookings_not_canceled',\n",
       "       'booked_by_company', 'booked_by_agent', 'hotel_City', 'hotel_Resort',\n",
       "       'meal_BB', 'meal_FB', 'meal_HB', 'meal_No_meal', 'reserved_room_type_A',\n",
       "       'reserved_room_type_B', 'reserved_room_type_C', 'reserved_room_type_D',\n",
       "       'reserved_room_type_E', 'reserved_room_type_F', 'reserved_room_type_G',\n",
       "       'reserved_room_type_H', 'reserved_room_type_L',\n",
       "       'deposit_type_No_Deposit', 'deposit_type_Non_Refund',\n",
       "       'deposit_type_Refundable', 'customer_type_Contract',\n",
       "       'customer_type_Group', 'customer_type_Transient',\n",
       "       'customer_type_Transient-Party', 'lead_time', 'adults', 'children',\n",
       "       'babies'],\n",
       "      dtype='object')"
      ]
     },
     "execution_count": 40,
     "metadata": {},
     "output_type": "execute_result"
    }
   ],
   "source": [
    "X.columns"
   ]
  },
  {
   "cell_type": "code",
   "execution_count": 41,
   "id": "3536cd37-8448-4ca6-8ea1-130e35406598",
   "metadata": {},
   "outputs": [],
   "source": [
    "y=df.is_canceled.values"
   ]
  },
  {
   "cell_type": "code",
   "execution_count": 42,
   "id": "c6725f11-9ab0-45d9-b715-2f433fcf897a",
   "metadata": {},
   "outputs": [],
   "source": [
    "X_train, X_test, y_train, y_test=train_test_split(X, y, test_size=0.3)"
   ]
  },
  {
   "cell_type": "code",
   "execution_count": 43,
   "id": "810aa08a-3c9b-47be-a589-c38ba64b41ab",
   "metadata": {},
   "outputs": [],
   "source": [
    "models=[]\n",
    "lg=LogisticRegression()\n",
    "KNN=KNeighborsClassifier()\n",
    "Dst=DecisionTreeClassifier()\n",
    "RF=RandomForestClassifier()\n",
    "GB=GradientBoostingClassifier()\n",
    "models.append(lg)\n",
    "models.append( KNN)\n",
    "models.append( Dst)\n",
    "models.append( RF)\n",
    "models.append( GB)"
   ]
  },
  {
   "cell_type": "code",
   "execution_count": 44,
   "id": "15b03427-0c13-49b2-86cf-e7191c72c425",
   "metadata": {},
   "outputs": [
    {
     "name": "stdout",
     "output_type": "stream",
     "text": [
      "              precision    recall  f1-score   support\n",
      "\n",
      "           0       0.80      0.99      0.88        91\n",
      "           1       0.00      0.00      0.00        23\n",
      "\n",
      "    accuracy                           0.79       114\n",
      "   macro avg       0.40      0.49      0.44       114\n",
      "weighted avg       0.64      0.79      0.70       114\n",
      " LogisticRegression()\n",
      "[[90  1]\n",
      " [23  0]]\n",
      "              precision    recall  f1-score   support\n",
      "\n",
      "           0       0.82      0.91      0.86        91\n",
      "           1       0.38      0.22      0.28        23\n",
      "\n",
      "    accuracy                           0.77       114\n",
      "   macro avg       0.60      0.56      0.57       114\n",
      "weighted avg       0.73      0.77      0.75       114\n",
      " KNeighborsClassifier()\n",
      "[[83  8]\n",
      " [18  5]]\n",
      "              precision    recall  f1-score   support\n",
      "\n",
      "           0       0.87      0.92      0.89        91\n",
      "           1       0.59      0.43      0.50        23\n",
      "\n",
      "    accuracy                           0.82       114\n",
      "   macro avg       0.73      0.68      0.70       114\n",
      "weighted avg       0.81      0.82      0.81       114\n",
      " DecisionTreeClassifier()\n",
      "[[84  7]\n",
      " [13 10]]\n",
      "              precision    recall  f1-score   support\n",
      "\n",
      "           0       0.81      0.91      0.86        91\n",
      "           1       0.33      0.17      0.23        23\n",
      "\n",
      "    accuracy                           0.76       114\n",
      "   macro avg       0.57      0.54      0.54       114\n",
      "weighted avg       0.72      0.76      0.73       114\n",
      " RandomForestClassifier()\n",
      "[[83  8]\n",
      " [19  4]]\n",
      "              precision    recall  f1-score   support\n",
      "\n",
      "           0       0.80      0.93      0.86        91\n",
      "           1       0.25      0.09      0.13        23\n",
      "\n",
      "    accuracy                           0.76       114\n",
      "   macro avg       0.53      0.51      0.50       114\n",
      "weighted avg       0.69      0.76      0.71       114\n",
      " GradientBoostingClassifier()\n",
      "[[85  6]\n",
      " [21  2]]\n"
     ]
    }
   ],
   "source": [
    "for model in models:\n",
    "    clf=model.fit(X_train, y_train)\n",
    "    predictions=model.predict(X_test)\n",
    "    print(classification_report(y_test, predictions) , model)\n",
    "    print(confusion_matrix(y_test, predictions))"
   ]
  },
  {
   "cell_type": "markdown",
   "id": "d2a3cea4-3382-4f0f-bcb4-76e23511b9f3",
   "metadata": {
    "tags": []
   },
   "source": [
    "<h4>from the models above we can see DecisionTreeClassifier has the better accuracy and precision </h4>"
   ]
  },
  {
   "cell_type": "code",
   "execution_count": null,
   "id": "2932ae82-896f-43f5-98bd-945689239872",
   "metadata": {},
   "outputs": [],
   "source": [
    "Dst.fit(X_train, y_train)"
   ]
  },
  {
   "cell_type": "code",
   "execution_count": 45,
   "id": "c69feb6c-14b1-4f33-8585-516de77a7854",
   "metadata": {},
   "outputs": [
    {
     "name": "stdout",
     "output_type": "stream",
     "text": [
      " 1) lead_time                      0.365333\n",
      " 2) stays_in_week_nights           0.140852\n",
      " 3) reserved_room_type_E           0.104585\n",
      " 4) children                       0.085872\n",
      " 5) stays_in_weekend_nights        0.073093\n",
      " 6) reserved_room_type_D           0.048644\n",
      " 7) meal_HB                        0.038887\n",
      " 8) reserved_room_type_A           0.031157\n",
      " 9) customer_type_Transient        0.029317\n",
      "10) adults                         0.023963\n",
      "11) reserved_room_type_G           0.020676\n",
      "12) meal_BB                        0.018904\n",
      "13) reserved_room_type_H           0.008214\n",
      "14) booked_by_company              0.006716\n",
      "15) babies                         0.003787\n",
      "16) reserved_room_type_F           0.000000\n",
      "17) customer_type_Transient-Party  0.000000\n",
      "18) deposit_type_Refundable        0.000000\n",
      "19) is_repeated_guest              0.000000\n",
      "20) previous_cancellations         0.000000\n",
      "21) previous_bookings_not_canceled 0.000000\n",
      "22) deposit_type_Non_Refund        0.000000\n",
      "23) booked_by_agent                0.000000\n",
      "24) hotel_City                     0.000000\n",
      "25) hotel_Resort                   0.000000\n",
      "26) deposit_type_No_Deposit        0.000000\n",
      "27) meal_FB                        0.000000\n",
      "28) reserved_room_type_L           0.000000\n",
      "29) meal_No_meal                   0.000000\n",
      "30) customer_type_Contract         0.000000\n",
      "31) reserved_room_type_B           0.000000\n",
      "32) reserved_room_type_C           0.000000\n",
      "33) customer_type_Group            0.000000\n"
     ]
    }
   ],
   "source": [
    "importances = Dst.feature_importances_\n",
    "#\n",
    "# Sort the feature importance in descending order\n",
    "#\n",
    "sorted_indices = np.argsort(importances)[::-1]\n",
    " \n",
    "feat_labels = df.columns[1:]\n",
    " \n",
    "for f in range(X_train.shape[1]):\n",
    "    print(\"%2d) %-*s %f\" % (f + 1, 30,\n",
    "                            feat_labels[sorted_indices[f]],\n",
    "                            importances[sorted_indices[f]]))"
   ]
  },
  {
   "cell_type": "code",
   "execution_count": 46,
   "id": "21d68c39-29e5-4b90-bea5-c90597e07593",
   "metadata": {},
   "outputs": [
    {
     "data": {
      "image/png": "[encoded data removed]",
      "text/plain": [
       "<Figure size 640x480 with 1 Axes>"
      ]
     },
     "metadata": {},
     "output_type": "display_data"
    }
   ],
   "source": [
    "plt.title('Feature Importance')\n",
    "plt.bar(range(X_train.shape[1]), importances[sorted_indices], align='center')\n",
    "plt.xticks(range(X_train.shape[1]), X_train.columns[sorted_indices], rotation=90)\n",
    "plt.tight_layout()\n",
    "plt.show()"
   ]
  },
  {
   "cell_type": "markdown",
   "id": "112de5bd-1cee-4957-919f-21162733e115",
   "metadata": {},
   "source": [
    "<h4>The most influencial variables related with booking cancletion are: lead time - stays_in_week_nights - reserved_room_type_E  - children - stays_in_weekend_nights</h4>"
   ]
  },
  {
   "cell_type": "markdown",
   "id": "96767c10-f14f-4ef6-9a03-e822b41367ae",
   "metadata": {},
   "source": [
    "***Actions that could optimize their booking service and anticipate when cancellations will occur***\n",
    "* Bookings with longer lead times more likely to result in a cancellation\n",
    "* Making sure all resrved rooms are comfortable and stardard and well accomodating for children "
   ]
  },
  {
   "cell_type": "code",
   "execution_count": null,
   "id": "a110a9e7-ee7d-4541-9a0a-d531646b08da",
   "metadata": {},
   "outputs": [],
   "source": []
  }
 ],
 "metadata": {
  "kernelspec": {
   "display_name": "Python 3 (ipykernel)",
   "language": "python",
   "name": "python3"
  },
  "language_info": {
   "codemirror_mode": {
    "name": "ipython",
    "version": 3
   },
   "file_extension": ".py",
   "mimetype": "text/x-python",
   "name": "python",
   "nbconvert_exporter": "python",
   "pygments_lexer": "ipython3",
   "version": "3.9.13"
  }
 },
 "nbformat": 4,
 "nbformat_minor": 5
}
