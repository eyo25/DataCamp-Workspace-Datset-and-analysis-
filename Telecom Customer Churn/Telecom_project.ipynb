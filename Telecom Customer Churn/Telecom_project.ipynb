{
 "cells": [
  {
   "cell_type": "code",
   "execution_count": 1,
   "id": "9b1c92c6",
   "metadata": {},
   "outputs": [],
   "source": [
    "import numpy as np\n",
    "import pandas as pd\n",
    "import matplotlib.pyplot as plt\n",
    "import seaborn as sns\n",
    "sns.set_theme(style=\"darkgrid\")"
   ]
  },
  {
   "cell_type": "code",
   "execution_count": 2,
   "id": "b1e7d8c1",
   "metadata": {},
   "outputs": [
    {
     "data": {
      "text/html": [
       "<div>\n",
       "<style scoped>\n",
       "    .dataframe tbody tr th:only-of-type {\n",
       "        vertical-align: middle;\n",
       "    }\n",
       "\n",
       "    .dataframe tbody tr th {\n",
       "        vertical-align: top;\n",
       "    }\n",
       "\n",
       "    .dataframe thead th {\n",
       "        text-align: right;\n",
       "    }\n",
       "</style>\n",
       "<table border=\"1\" class=\"dataframe\">\n",
       "  <thead>\n",
       "    <tr style=\"text-align: right;\">\n",
       "      <th></th>\n",
       "      <th>Call Failure</th>\n",
       "      <th>Complains</th>\n",
       "      <th>Subscription Length</th>\n",
       "      <th>Charge Amount</th>\n",
       "      <th>Seconds of Use</th>\n",
       "      <th>Frequency of use</th>\n",
       "      <th>Frequency of SMS</th>\n",
       "      <th>Distinct Called Numbers</th>\n",
       "      <th>Age Group</th>\n",
       "      <th>Tariff Plan</th>\n",
       "      <th>Status</th>\n",
       "      <th>Age</th>\n",
       "      <th>Customer Value</th>\n",
       "      <th>Churn</th>\n",
       "    </tr>\n",
       "  </thead>\n",
       "  <tbody>\n",
       "    <tr>\n",
       "      <th>0</th>\n",
       "      <td>8</td>\n",
       "      <td>0</td>\n",
       "      <td>38</td>\n",
       "      <td>0</td>\n",
       "      <td>4370</td>\n",
       "      <td>71</td>\n",
       "      <td>5</td>\n",
       "      <td>17</td>\n",
       "      <td>3</td>\n",
       "      <td>1</td>\n",
       "      <td>1</td>\n",
       "      <td>30</td>\n",
       "      <td>197.640</td>\n",
       "      <td>0</td>\n",
       "    </tr>\n",
       "    <tr>\n",
       "      <th>1</th>\n",
       "      <td>0</td>\n",
       "      <td>0</td>\n",
       "      <td>39</td>\n",
       "      <td>0</td>\n",
       "      <td>318</td>\n",
       "      <td>5</td>\n",
       "      <td>7</td>\n",
       "      <td>4</td>\n",
       "      <td>2</td>\n",
       "      <td>1</td>\n",
       "      <td>2</td>\n",
       "      <td>25</td>\n",
       "      <td>46.035</td>\n",
       "      <td>0</td>\n",
       "    </tr>\n",
       "    <tr>\n",
       "      <th>2</th>\n",
       "      <td>10</td>\n",
       "      <td>0</td>\n",
       "      <td>37</td>\n",
       "      <td>0</td>\n",
       "      <td>2453</td>\n",
       "      <td>60</td>\n",
       "      <td>359</td>\n",
       "      <td>24</td>\n",
       "      <td>3</td>\n",
       "      <td>1</td>\n",
       "      <td>1</td>\n",
       "      <td>30</td>\n",
       "      <td>1536.520</td>\n",
       "      <td>0</td>\n",
       "    </tr>\n",
       "    <tr>\n",
       "      <th>3</th>\n",
       "      <td>10</td>\n",
       "      <td>0</td>\n",
       "      <td>38</td>\n",
       "      <td>0</td>\n",
       "      <td>4198</td>\n",
       "      <td>66</td>\n",
       "      <td>1</td>\n",
       "      <td>35</td>\n",
       "      <td>1</td>\n",
       "      <td>1</td>\n",
       "      <td>1</td>\n",
       "      <td>15</td>\n",
       "      <td>240.020</td>\n",
       "      <td>0</td>\n",
       "    </tr>\n",
       "    <tr>\n",
       "      <th>4</th>\n",
       "      <td>3</td>\n",
       "      <td>0</td>\n",
       "      <td>38</td>\n",
       "      <td>0</td>\n",
       "      <td>2393</td>\n",
       "      <td>58</td>\n",
       "      <td>2</td>\n",
       "      <td>33</td>\n",
       "      <td>1</td>\n",
       "      <td>1</td>\n",
       "      <td>1</td>\n",
       "      <td>15</td>\n",
       "      <td>145.805</td>\n",
       "      <td>0</td>\n",
       "    </tr>\n",
       "    <tr>\n",
       "      <th>...</th>\n",
       "      <td>...</td>\n",
       "      <td>...</td>\n",
       "      <td>...</td>\n",
       "      <td>...</td>\n",
       "      <td>...</td>\n",
       "      <td>...</td>\n",
       "      <td>...</td>\n",
       "      <td>...</td>\n",
       "      <td>...</td>\n",
       "      <td>...</td>\n",
       "      <td>...</td>\n",
       "      <td>...</td>\n",
       "      <td>...</td>\n",
       "      <td>...</td>\n",
       "    </tr>\n",
       "    <tr>\n",
       "      <th>1423</th>\n",
       "      <td>18</td>\n",
       "      <td>0</td>\n",
       "      <td>37</td>\n",
       "      <td>7</td>\n",
       "      <td>10310</td>\n",
       "      <td>95</td>\n",
       "      <td>5</td>\n",
       "      <td>45</td>\n",
       "      <td>4</td>\n",
       "      <td>2</td>\n",
       "      <td>1</td>\n",
       "      <td>45</td>\n",
       "      <td>272.625</td>\n",
       "      <td>0</td>\n",
       "    </tr>\n",
       "    <tr>\n",
       "      <th>1424</th>\n",
       "      <td>10</td>\n",
       "      <td>0</td>\n",
       "      <td>37</td>\n",
       "      <td>0</td>\n",
       "      <td>5693</td>\n",
       "      <td>100</td>\n",
       "      <td>30</td>\n",
       "      <td>27</td>\n",
       "      <td>2</td>\n",
       "      <td>1</td>\n",
       "      <td>1</td>\n",
       "      <td>25</td>\n",
       "      <td>395.685</td>\n",
       "      <td>1</td>\n",
       "    </tr>\n",
       "    <tr>\n",
       "      <th>1425</th>\n",
       "      <td>0</td>\n",
       "      <td>0</td>\n",
       "      <td>35</td>\n",
       "      <td>0</td>\n",
       "      <td>2715</td>\n",
       "      <td>24</td>\n",
       "      <td>4</td>\n",
       "      <td>17</td>\n",
       "      <td>3</td>\n",
       "      <td>1</td>\n",
       "      <td>1</td>\n",
       "      <td>30</td>\n",
       "      <td>125.560</td>\n",
       "      <td>0</td>\n",
       "    </tr>\n",
       "    <tr>\n",
       "      <th>1426</th>\n",
       "      <td>6</td>\n",
       "      <td>1</td>\n",
       "      <td>36</td>\n",
       "      <td>0</td>\n",
       "      <td>2865</td>\n",
       "      <td>43</td>\n",
       "      <td>13</td>\n",
       "      <td>19</td>\n",
       "      <td>2</td>\n",
       "      <td>1</td>\n",
       "      <td>2</td>\n",
       "      <td>25</td>\n",
       "      <td>189.360</td>\n",
       "      <td>1</td>\n",
       "    </tr>\n",
       "    <tr>\n",
       "      <th>1427</th>\n",
       "      <td>6</td>\n",
       "      <td>1</td>\n",
       "      <td>37</td>\n",
       "      <td>0</td>\n",
       "      <td>2143</td>\n",
       "      <td>46</td>\n",
       "      <td>38</td>\n",
       "      <td>34</td>\n",
       "      <td>3</td>\n",
       "      <td>1</td>\n",
       "      <td>2</td>\n",
       "      <td>30</td>\n",
       "      <td>239.560</td>\n",
       "      <td>1</td>\n",
       "    </tr>\n",
       "  </tbody>\n",
       "</table>\n",
       "<p>1428 rows × 14 columns</p>\n",
       "</div>"
      ],
      "text/plain": [
       "      Call Failure  Complains  Subscription Length  Charge Amount  \\\n",
       "0                8          0                   38              0   \n",
       "1                0          0                   39              0   \n",
       "2               10          0                   37              0   \n",
       "3               10          0                   38              0   \n",
       "4                3          0                   38              0   \n",
       "...            ...        ...                  ...            ...   \n",
       "1423            18          0                   37              7   \n",
       "1424            10          0                   37              0   \n",
       "1425             0          0                   35              0   \n",
       "1426             6          1                   36              0   \n",
       "1427             6          1                   37              0   \n",
       "\n",
       "      Seconds of Use  Frequency of use  Frequency of SMS  \\\n",
       "0               4370                71                 5   \n",
       "1                318                 5                 7   \n",
       "2               2453                60               359   \n",
       "3               4198                66                 1   \n",
       "4               2393                58                 2   \n",
       "...              ...               ...               ...   \n",
       "1423           10310                95                 5   \n",
       "1424            5693               100                30   \n",
       "1425            2715                24                 4   \n",
       "1426            2865                43                13   \n",
       "1427            2143                46                38   \n",
       "\n",
       "      Distinct Called Numbers  Age Group  Tariff Plan  Status  Age  \\\n",
       "0                          17          3            1       1   30   \n",
       "1                           4          2            1       2   25   \n",
       "2                          24          3            1       1   30   \n",
       "3                          35          1            1       1   15   \n",
       "4                          33          1            1       1   15   \n",
       "...                       ...        ...          ...     ...  ...   \n",
       "1423                       45          4            2       1   45   \n",
       "1424                       27          2            1       1   25   \n",
       "1425                       17          3            1       1   30   \n",
       "1426                       19          2            1       2   25   \n",
       "1427                       34          3            1       2   30   \n",
       "\n",
       "      Customer Value  Churn  \n",
       "0            197.640      0  \n",
       "1             46.035      0  \n",
       "2           1536.520      0  \n",
       "3            240.020      0  \n",
       "4            145.805      0  \n",
       "...              ...    ...  \n",
       "1423         272.625      0  \n",
       "1424         395.685      1  \n",
       "1425         125.560      0  \n",
       "1426         189.360      1  \n",
       "1427         239.560      1  \n",
       "\n",
       "[1428 rows x 14 columns]"
      ]
     },
     "execution_count": 2,
     "metadata": {},
     "output_type": "execute_result"
    }
   ],
   "source": [
    "tele=pd.read_csv('../Datasets/telcomData.csv')\n",
    "tele"
   ]
  },
  {
   "cell_type": "code",
   "execution_count": 3,
   "id": "925e5081",
   "metadata": {},
   "outputs": [
    {
     "data": {
      "text/plain": [
       "Index(['Call Failure', 'Complains', 'Subscription Length', 'Charge Amount',\n",
       "       'Seconds of Use', 'Frequency of use', 'Frequency of SMS',\n",
       "       'Distinct Called Numbers', 'Age Group', 'Tariff Plan', 'Status', 'Age',\n",
       "       'Customer Value', 'Churn'],\n",
       "      dtype='object')"
      ]
     },
     "execution_count": 3,
     "metadata": {},
     "output_type": "execute_result"
    }
   ],
   "source": [
    "tele.columns"
   ]
  },
  {
   "cell_type": "code",
   "execution_count": 4,
   "id": "62fa7351",
   "metadata": {},
   "outputs": [
    {
     "data": {
      "text/html": [
       "<div>\n",
       "<style scoped>\n",
       "    .dataframe tbody tr th:only-of-type {\n",
       "        vertical-align: middle;\n",
       "    }\n",
       "\n",
       "    .dataframe tbody tr th {\n",
       "        vertical-align: top;\n",
       "    }\n",
       "\n",
       "    .dataframe thead th {\n",
       "        text-align: right;\n",
       "    }\n",
       "</style>\n",
       "<table border=\"1\" class=\"dataframe\">\n",
       "  <thead>\n",
       "    <tr style=\"text-align: right;\">\n",
       "      <th></th>\n",
       "      <th>Call Failure</th>\n",
       "      <th>Complains</th>\n",
       "      <th>Subscription Length</th>\n",
       "      <th>Charge Amount</th>\n",
       "      <th>Seconds of Use</th>\n",
       "      <th>Frequency of use</th>\n",
       "      <th>Frequency of SMS</th>\n",
       "      <th>Distinct Called Numbers</th>\n",
       "      <th>Age Group</th>\n",
       "      <th>Tariff Plan</th>\n",
       "      <th>Status</th>\n",
       "      <th>Age</th>\n",
       "      <th>Customer Value</th>\n",
       "      <th>Churn</th>\n",
       "    </tr>\n",
       "  </thead>\n",
       "  <tbody>\n",
       "    <tr>\n",
       "      <th>count</th>\n",
       "      <td>1428.000000</td>\n",
       "      <td>1428.000000</td>\n",
       "      <td>1428.000000</td>\n",
       "      <td>1428.000000</td>\n",
       "      <td>1428.000000</td>\n",
       "      <td>1428.000000</td>\n",
       "      <td>1428.000000</td>\n",
       "      <td>1428.000000</td>\n",
       "      <td>1428.000000</td>\n",
       "      <td>1428.000000</td>\n",
       "      <td>1428.000000</td>\n",
       "      <td>1428.000000</td>\n",
       "      <td>1428.000000</td>\n",
       "      <td>1428.000000</td>\n",
       "    </tr>\n",
       "    <tr>\n",
       "      <th>mean</th>\n",
       "      <td>6.288515</td>\n",
       "      <td>0.087535</td>\n",
       "      <td>32.161064</td>\n",
       "      <td>0.745798</td>\n",
       "      <td>4409.132353</td>\n",
       "      <td>68.169468</td>\n",
       "      <td>71.601541</td>\n",
       "      <td>23.061625</td>\n",
       "      <td>2.751401</td>\n",
       "      <td>1.073529</td>\n",
       "      <td>1.243697</td>\n",
       "      <td>30.343137</td>\n",
       "      <td>470.257892</td>\n",
       "      <td>0.163165</td>\n",
       "    </tr>\n",
       "    <tr>\n",
       "      <th>std</th>\n",
       "      <td>6.601328</td>\n",
       "      <td>0.282716</td>\n",
       "      <td>8.524295</td>\n",
       "      <td>1.403950</td>\n",
       "      <td>4198.846569</td>\n",
       "      <td>57.233236</td>\n",
       "      <td>112.737058</td>\n",
       "      <td>17.048646</td>\n",
       "      <td>0.875881</td>\n",
       "      <td>0.261095</td>\n",
       "      <td>0.429463</td>\n",
       "      <td>8.488909</td>\n",
       "      <td>525.525529</td>\n",
       "      <td>0.369646</td>\n",
       "    </tr>\n",
       "    <tr>\n",
       "      <th>min</th>\n",
       "      <td>0.000000</td>\n",
       "      <td>0.000000</td>\n",
       "      <td>3.000000</td>\n",
       "      <td>0.000000</td>\n",
       "      <td>0.000000</td>\n",
       "      <td>0.000000</td>\n",
       "      <td>0.000000</td>\n",
       "      <td>0.000000</td>\n",
       "      <td>1.000000</td>\n",
       "      <td>1.000000</td>\n",
       "      <td>1.000000</td>\n",
       "      <td>15.000000</td>\n",
       "      <td>0.000000</td>\n",
       "      <td>0.000000</td>\n",
       "    </tr>\n",
       "    <tr>\n",
       "      <th>25%</th>\n",
       "      <td>0.000000</td>\n",
       "      <td>0.000000</td>\n",
       "      <td>29.000000</td>\n",
       "      <td>0.000000</td>\n",
       "      <td>1362.250000</td>\n",
       "      <td>26.000000</td>\n",
       "      <td>1.000000</td>\n",
       "      <td>10.000000</td>\n",
       "      <td>2.000000</td>\n",
       "      <td>1.000000</td>\n",
       "      <td>1.000000</td>\n",
       "      <td>25.000000</td>\n",
       "      <td>109.545000</td>\n",
       "      <td>0.000000</td>\n",
       "    </tr>\n",
       "    <tr>\n",
       "      <th>50%</th>\n",
       "      <td>5.000000</td>\n",
       "      <td>0.000000</td>\n",
       "      <td>35.000000</td>\n",
       "      <td>0.000000</td>\n",
       "      <td>2917.500000</td>\n",
       "      <td>52.000000</td>\n",
       "      <td>18.000000</td>\n",
       "      <td>20.000000</td>\n",
       "      <td>3.000000</td>\n",
       "      <td>1.000000</td>\n",
       "      <td>1.000000</td>\n",
       "      <td>30.000000</td>\n",
       "      <td>223.697500</td>\n",
       "      <td>0.000000</td>\n",
       "    </tr>\n",
       "    <tr>\n",
       "      <th>75%</th>\n",
       "      <td>9.000000</td>\n",
       "      <td>0.000000</td>\n",
       "      <td>38.000000</td>\n",
       "      <td>1.000000</td>\n",
       "      <td>6420.000000</td>\n",
       "      <td>93.000000</td>\n",
       "      <td>85.250000</td>\n",
       "      <td>33.000000</td>\n",
       "      <td>3.000000</td>\n",
       "      <td>1.000000</td>\n",
       "      <td>1.000000</td>\n",
       "      <td>30.000000</td>\n",
       "      <td>787.950000</td>\n",
       "      <td>0.000000</td>\n",
       "    </tr>\n",
       "    <tr>\n",
       "      <th>max</th>\n",
       "      <td>31.000000</td>\n",
       "      <td>1.000000</td>\n",
       "      <td>45.000000</td>\n",
       "      <td>10.000000</td>\n",
       "      <td>16785.000000</td>\n",
       "      <td>249.000000</td>\n",
       "      <td>515.000000</td>\n",
       "      <td>95.000000</td>\n",
       "      <td>5.000000</td>\n",
       "      <td>2.000000</td>\n",
       "      <td>2.000000</td>\n",
       "      <td>55.000000</td>\n",
       "      <td>2165.280000</td>\n",
       "      <td>1.000000</td>\n",
       "    </tr>\n",
       "  </tbody>\n",
       "</table>\n",
       "</div>"
      ],
      "text/plain": [
       "       Call Failure    Complains  Subscription Length  Charge Amount  \\\n",
       "count   1428.000000  1428.000000          1428.000000    1428.000000   \n",
       "mean       6.288515     0.087535            32.161064       0.745798   \n",
       "std        6.601328     0.282716             8.524295       1.403950   \n",
       "min        0.000000     0.000000             3.000000       0.000000   \n",
       "25%        0.000000     0.000000            29.000000       0.000000   \n",
       "50%        5.000000     0.000000            35.000000       0.000000   \n",
       "75%        9.000000     0.000000            38.000000       1.000000   \n",
       "max       31.000000     1.000000            45.000000      10.000000   \n",
       "\n",
       "       Seconds of Use  Frequency of use  Frequency of SMS  \\\n",
       "count     1428.000000       1428.000000       1428.000000   \n",
       "mean      4409.132353         68.169468         71.601541   \n",
       "std       4198.846569         57.233236        112.737058   \n",
       "min          0.000000          0.000000          0.000000   \n",
       "25%       1362.250000         26.000000          1.000000   \n",
       "50%       2917.500000         52.000000         18.000000   \n",
       "75%       6420.000000         93.000000         85.250000   \n",
       "max      16785.000000        249.000000        515.000000   \n",
       "\n",
       "       Distinct Called Numbers    Age Group  Tariff Plan       Status  \\\n",
       "count              1428.000000  1428.000000  1428.000000  1428.000000   \n",
       "mean                 23.061625     2.751401     1.073529     1.243697   \n",
       "std                  17.048646     0.875881     0.261095     0.429463   \n",
       "min                   0.000000     1.000000     1.000000     1.000000   \n",
       "25%                  10.000000     2.000000     1.000000     1.000000   \n",
       "50%                  20.000000     3.000000     1.000000     1.000000   \n",
       "75%                  33.000000     3.000000     1.000000     1.000000   \n",
       "max                  95.000000     5.000000     2.000000     2.000000   \n",
       "\n",
       "               Age  Customer Value        Churn  \n",
       "count  1428.000000     1428.000000  1428.000000  \n",
       "mean     30.343137      470.257892     0.163165  \n",
       "std       8.488909      525.525529     0.369646  \n",
       "min      15.000000        0.000000     0.000000  \n",
       "25%      25.000000      109.545000     0.000000  \n",
       "50%      30.000000      223.697500     0.000000  \n",
       "75%      30.000000      787.950000     0.000000  \n",
       "max      55.000000     2165.280000     1.000000  "
      ]
     },
     "execution_count": 4,
     "metadata": {},
     "output_type": "execute_result"
    }
   ],
   "source": [
    "tele.describe()"
   ]
  },
  {
   "cell_type": "code",
   "execution_count": 5,
   "id": "809bfc35",
   "metadata": {},
   "outputs": [
    {
     "data": {
      "text/plain": [
       "Call Failure               0\n",
       "Complains                  0\n",
       "Subscription Length        0\n",
       "Charge Amount              0\n",
       "Seconds of Use             0\n",
       "Frequency of use           0\n",
       "Frequency of SMS           0\n",
       "Distinct Called Numbers    0\n",
       "Age Group                  0\n",
       "Tariff Plan                0\n",
       "Status                     0\n",
       "Age                        0\n",
       "Customer Value             0\n",
       "Churn                      0\n",
       "dtype: int64"
      ]
     },
     "execution_count": 5,
     "metadata": {},
     "output_type": "execute_result"
    }
   ],
   "source": [
    "tele.isna().sum()"
   ]
  },
  {
   "cell_type": "code",
   "execution_count": 6,
   "id": "26f8f8ca",
   "metadata": {},
   "outputs": [
    {
     "data": {
      "text/plain": [
       "0    1303\n",
       "1     125\n",
       "Name: Complains, dtype: int64"
      ]
     },
     "execution_count": 6,
     "metadata": {},
     "output_type": "execute_result"
    }
   ],
   "source": [
    "tele.Complains.value_counts()"
   ]
  },
  {
   "cell_type": "code",
   "execution_count": 7,
   "id": "48ebc50c",
   "metadata": {},
   "outputs": [
    {
     "data": {
      "text/plain": [
       "3    620\n",
       "2    520\n",
       "4    163\n",
       "5     63\n",
       "1     62\n",
       "Name: Age Group, dtype: int64"
      ]
     },
     "execution_count": 7,
     "metadata": {},
     "output_type": "execute_result"
    }
   ],
   "source": [
    "tele['Age Group'].value_counts()"
   ]
  },
  {
   "cell_type": "code",
   "execution_count": 8,
   "id": "56bb9ac8",
   "metadata": {},
   "outputs": [
    {
     "data": {
      "text/plain": [
       "1    1323\n",
       "2     105\n",
       "Name: Tariff Plan, dtype: int64"
      ]
     },
     "execution_count": 8,
     "metadata": {},
     "output_type": "execute_result"
    }
   ],
   "source": [
    "tele['Tariff Plan'].value_counts()"
   ]
  },
  {
   "cell_type": "code",
   "execution_count": 9,
   "id": "522b3f14",
   "metadata": {
    "collapsed": false,
    "jupyter": {
     "outputs_hidden": false
    }
   },
   "outputs": [
    {
     "data": {
      "text/plain": [
       "0     82\n",
       "17    41\n",
       "8     39\n",
       "11    38\n",
       "20    36\n",
       "      ..\n",
       "59     1\n",
       "63     1\n",
       "75     1\n",
       "73     1\n",
       "60     1\n",
       "Name: Distinct Called Numbers, Length: 85, dtype: int64"
      ]
     },
     "execution_count": 9,
     "metadata": {},
     "output_type": "execute_result"
    }
   ],
   "source": [
    "tele['Distinct Called Numbers'].value_counts()"
   ]
  },
  {
   "cell_type": "code",
   "execution_count": 10,
   "id": "15cbfd5b",
   "metadata": {
    "collapsed": false,
    "jupyter": {
     "outputs_hidden": false
    }
   },
   "outputs": [
    {
     "data": {
      "text/plain": [
       "4409.132352941177"
      ]
     },
     "execution_count": 10,
     "metadata": {},
     "output_type": "execute_result"
    }
   ],
   "source": [
    "tele['Seconds of Use'].mean()"
   ]
  },
  {
   "cell_type": "code",
   "execution_count": 11,
   "id": "1f445522-9890-4459-8c39-41650b9dbbcd",
   "metadata": {
    "collapsed": false,
    "jupyter": {
     "outputs_hidden": false
    }
   },
   "outputs": [
    {
     "data": {
      "text/plain": [
       "2917.5"
      ]
     },
     "execution_count": 11,
     "metadata": {},
     "output_type": "execute_result"
    }
   ],
   "source": [
    "tele['Seconds of Use'].median()"
   ]
  },
  {
   "cell_type": "code",
   "execution_count": 12,
   "id": "cbc83ae1-f074-43fd-a333-27de2082d042",
   "metadata": {},
   "outputs": [
    {
     "data": {
      "text/plain": [
       "16785"
      ]
     },
     "execution_count": 12,
     "metadata": {},
     "output_type": "execute_result"
    }
   ],
   "source": [
    "tele['Seconds of Use'].max()"
   ]
  },
  {
   "cell_type": "code",
   "execution_count": 13,
   "id": "8b77c4b9",
   "metadata": {},
   "outputs": [
    {
     "name": "stderr",
     "output_type": "stream",
     "text": [
      "/tmp/ipykernel_68437/407952333.py:2: FutureWarning: Indexing with multiple keys (implicitly converted to a tuple of keys) will be deprecated, use a list instead.\n",
      "  tele.groupby(['Age Group'])['Frequency of SMS','Frequency of use'].mean()\n"
     ]
    },
    {
     "data": {
      "text/html": [
       "<div>\n",
       "<style scoped>\n",
       "    .dataframe tbody tr th:only-of-type {\n",
       "        vertical-align: middle;\n",
       "    }\n",
       "\n",
       "    .dataframe tbody tr th {\n",
       "        vertical-align: top;\n",
       "    }\n",
       "\n",
       "    .dataframe thead th {\n",
       "        text-align: right;\n",
       "    }\n",
       "</style>\n",
       "<table border=\"1\" class=\"dataframe\">\n",
       "  <thead>\n",
       "    <tr style=\"text-align: right;\">\n",
       "      <th></th>\n",
       "      <th>Frequency of SMS</th>\n",
       "      <th>Frequency of use</th>\n",
       "    </tr>\n",
       "    <tr>\n",
       "      <th>Age Group</th>\n",
       "      <th></th>\n",
       "      <th></th>\n",
       "    </tr>\n",
       "  </thead>\n",
       "  <tbody>\n",
       "    <tr>\n",
       "      <th>1</th>\n",
       "      <td>18.193548</td>\n",
       "      <td>75.516129</td>\n",
       "    </tr>\n",
       "    <tr>\n",
       "      <th>2</th>\n",
       "      <td>77.630769</td>\n",
       "      <td>69.632692</td>\n",
       "    </tr>\n",
       "    <tr>\n",
       "      <th>3</th>\n",
       "      <td>87.448387</td>\n",
       "      <td>67.435484</td>\n",
       "    </tr>\n",
       "    <tr>\n",
       "      <th>4</th>\n",
       "      <td>31.490798</td>\n",
       "      <td>62.533742</td>\n",
       "    </tr>\n",
       "    <tr>\n",
       "      <th>5</th>\n",
       "      <td>22.222222</td>\n",
       "      <td>70.666667</td>\n",
       "    </tr>\n",
       "  </tbody>\n",
       "</table>\n",
       "</div>"
      ],
      "text/plain": [
       "           Frequency of SMS  Frequency of use\n",
       "Age Group                                    \n",
       "1                 18.193548         75.516129\n",
       "2                 77.630769         69.632692\n",
       "3                 87.448387         67.435484\n",
       "4                 31.490798         62.533742\n",
       "5                 22.222222         70.666667"
      ]
     },
     "execution_count": 13,
     "metadata": {},
     "output_type": "execute_result"
    }
   ],
   "source": [
    "\n",
    "#Which age groups send more SMS messages than make phone calls?\n",
    "tele.groupby(['Age Group'])['Frequency of SMS','Frequency of use'].mean()"
   ]
  },
  {
   "cell_type": "code",
   "execution_count": 14,
   "id": "dcee7e2b",
   "metadata": {},
   "outputs": [
    {
     "data": {
      "image/png": "[encoded data removed]",
      "text/plain": [
       "<Figure size 640x480 with 1 Axes>"
      ]
     },
     "metadata": {},
     "output_type": "display_data"
    }
   ],
   "source": [
    "g=sns.boxplot(data=tele,x='Age Group',y='Frequency of SMS')"
   ]
  },
  {
   "cell_type": "code",
   "execution_count": 15,
   "id": "54cb5b0c-2c96-4763-8f0a-94923be3373e",
   "metadata": {},
   "outputs": [
    {
     "data": {
      "image/png": "[encoded data removed]",
      "text/plain": [
       "<Figure size 640x480 with 1 Axes>"
      ]
     },
     "metadata": {},
     "output_type": "display_data"
    }
   ],
   "source": [
    "g=sns.barplot(data=tele,x='Complains',y='Churn')"
   ]
  },
  {
   "cell_type": "code",
   "execution_count": 16,
   "id": "c3993d65-97e3-4b64-ad14-28f2f3b20cda",
   "metadata": {},
   "outputs": [
    {
     "data": {
      "image/png": "[encoded data removed]",
      "text/plain": [
       "<Figure size 640x480 with 1 Axes>"
      ]
     },
     "metadata": {},
     "output_type": "display_data"
    }
   ],
   "source": [
    "g=sns.barplot(data=tele,x='Churn',y='Tariff Plan')"
   ]
  },
  {
   "cell_type": "code",
   "execution_count": 17,
   "id": "1ead7518",
   "metadata": {},
   "outputs": [
    {
     "data": {
      "text/plain": [
       "<AxesSubplot:>"
      ]
     },
     "execution_count": 17,
     "metadata": {},
     "output_type": "execute_result"
    },
    {
     "data": {
      "image/png": "[encoded data removed]",
      "text/plain": [
       "<Figure size 640x480 with 2 Axes>"
      ]
     },
     "metadata": {},
     "output_type": "display_data"
    }
   ],
   "source": [
    "\n",
    "corr=tele.corr()\n",
    "sns.heatmap(corr, \n",
    "            xticklabels=corr.columns.values,\n",
    "            yticklabels=corr.columns.values)"
   ]
  },
  {
   "cell_type": "code",
   "execution_count": 18,
   "id": "fa1b40e5",
   "metadata": {},
   "outputs": [
    {
     "data": {
      "image/png": "[encoded data removed]",
      "text/plain": [
       "<Figure size 640x480 with 1 Axes>"
      ]
     },
     "metadata": {},
     "output_type": "display_data"
    }
   ],
   "source": [
    "#Create a plot visualizing the number of distinct phone calls by age group. Within the chart, differentiate between short, medium, and long calls (by the number of seconds).\n",
    "def filter(x):\n",
    "    if x<=3000:\n",
    "        return 'short'\n",
    "    elif (x>3000 and x<=5000):\n",
    "        return 'medium'\n",
    "    if x>5000:\n",
    "        return 'long'\n",
    "tele['number_of_seconds']=tele['Seconds of Use'].apply(filter)\n",
    "    \n",
    "g=sns.barplot(data=tele,x='Age Group',y='Distinct Called Numbers',hue='number_of_seconds')"
   ]
  },
  {
   "cell_type": "markdown",
   "id": "93ffc2cf-7e1c-46b9-8bb6-441baec2a3af",
   "metadata": {},
   "source": [
    "<p>The younger 1 and 2  age groups have the highest miedum calls <br>\n",
    "long calls relativley the same in all age group <br>\n",
    "the youngest generation enjoy short calls \n",
    "</p>"
   ]
  },
  {
   "cell_type": "code",
   "execution_count": 19,
   "id": "714352e8",
   "metadata": {},
   "outputs": [
    {
     "data": {
      "image/png": "[encoded data removed]",
      "text/plain": [
       "<Figure size 640x480 with 1 Axes>"
      ]
     },
     "metadata": {},
     "output_type": "display_data"
    }
   ],
   "source": [
    "#Are there significant differences between the length of phone calls between different tariff plans?\n",
    "g=sns.barplot(data=tele,x='Age Group',y='Seconds of Use',hue='Tariff Plan')\n",
    "\n"
   ]
  },
  {
   "cell_type": "code",
   "execution_count": 20,
   "id": "91d84f1e-95f5-4db0-a2ff-a3e24de3d3d0",
   "metadata": {},
   "outputs": [],
   "source": [
    "bin_col=['Complains', 'Churn', 'Tariff Plan','Status', 'Charge Amount']"
   ]
  },
  {
   "cell_type": "code",
   "execution_count": 21,
   "id": "03ec123f-2b36-427d-a064-2e58713f4d90",
   "metadata": {},
   "outputs": [],
   "source": [
    "num_col=['Call Failure','Call Failure','Seconds of Use','Frequency of use','Frequency of SMS','Distinct Called Numbers','Age','Customer Value']"
   ]
  },
  {
   "cell_type": "code",
   "execution_count": 22,
   "id": "4b3e996a-bc3a-483b-89e9-0797a6d916f0",
   "metadata": {},
   "outputs": [],
   "source": [
    "from sklearn.model_selection import train_test_split\n",
    "from sklearn.preprocessing import StandardScaler\n"
   ]
  },
  {
   "cell_type": "code",
   "execution_count": 23,
   "id": "8c39d43b-9cde-4228-a4c4-7cbeeb649731",
   "metadata": {},
   "outputs": [],
   "source": [
    "std=StandardScaler()\n",
    "scaled=std.fit_transform(tele[num_col])\n",
    "scaled=pd.DataFrame(scaled,columns=num_col)"
   ]
  },
  {
   "cell_type": "code",
   "execution_count": 24,
   "id": "5c1b170b-b6ff-4974-ae84-1c816d3f6b71",
   "metadata": {},
   "outputs": [
    {
     "data": {
      "text/html": [
       "<div>\n",
       "<style scoped>\n",
       "    .dataframe tbody tr th:only-of-type {\n",
       "        vertical-align: middle;\n",
       "    }\n",
       "\n",
       "    .dataframe tbody tr th {\n",
       "        vertical-align: top;\n",
       "    }\n",
       "\n",
       "    .dataframe thead th {\n",
       "        text-align: right;\n",
       "    }\n",
       "</style>\n",
       "<table border=\"1\" class=\"dataframe\">\n",
       "  <thead>\n",
       "    <tr style=\"text-align: right;\">\n",
       "      <th></th>\n",
       "      <th>Complains</th>\n",
       "      <th>Subscription Length</th>\n",
       "      <th>Charge Amount</th>\n",
       "      <th>Age Group</th>\n",
       "      <th>Tariff Plan</th>\n",
       "      <th>Status</th>\n",
       "      <th>Churn</th>\n",
       "      <th>number_of_seconds</th>\n",
       "      <th>Call Failure</th>\n",
       "      <th>Call Failure</th>\n",
       "      <th>Seconds of Use</th>\n",
       "      <th>Frequency of use</th>\n",
       "      <th>Frequency of SMS</th>\n",
       "      <th>Distinct Called Numbers</th>\n",
       "      <th>Age</th>\n",
       "      <th>Customer Value</th>\n",
       "    </tr>\n",
       "  </thead>\n",
       "  <tbody>\n",
       "    <tr>\n",
       "      <th>0</th>\n",
       "      <td>0</td>\n",
       "      <td>38</td>\n",
       "      <td>0</td>\n",
       "      <td>3</td>\n",
       "      <td>1</td>\n",
       "      <td>1</td>\n",
       "      <td>0</td>\n",
       "      <td>medium</td>\n",
       "      <td>0.259355</td>\n",
       "      <td>0.259355</td>\n",
       "      <td>-0.009323</td>\n",
       "      <td>0.049473</td>\n",
       "      <td>-0.590976</td>\n",
       "      <td>-0.355673</td>\n",
       "      <td>-0.040436</td>\n",
       "      <td>-0.518935</td>\n",
       "    </tr>\n",
       "    <tr>\n",
       "      <th>1</th>\n",
       "      <td>0</td>\n",
       "      <td>39</td>\n",
       "      <td>0</td>\n",
       "      <td>2</td>\n",
       "      <td>1</td>\n",
       "      <td>2</td>\n",
       "      <td>0</td>\n",
       "      <td>short</td>\n",
       "      <td>-0.952947</td>\n",
       "      <td>-0.952947</td>\n",
       "      <td>-0.974688</td>\n",
       "      <td>-1.104107</td>\n",
       "      <td>-0.573229</td>\n",
       "      <td>-1.118464</td>\n",
       "      <td>-0.629646</td>\n",
       "      <td>-0.807518</td>\n",
       "    </tr>\n",
       "    <tr>\n",
       "      <th>2</th>\n",
       "      <td>0</td>\n",
       "      <td>37</td>\n",
       "      <td>0</td>\n",
       "      <td>3</td>\n",
       "      <td>1</td>\n",
       "      <td>1</td>\n",
       "      <td>0</td>\n",
       "      <td>short</td>\n",
       "      <td>0.562430</td>\n",
       "      <td>0.562430</td>\n",
       "      <td>-0.466037</td>\n",
       "      <td>-0.142790</td>\n",
       "      <td>2.550174</td>\n",
       "      <td>0.055060</td>\n",
       "      <td>-0.040436</td>\n",
       "      <td>2.029655</td>\n",
       "    </tr>\n",
       "    <tr>\n",
       "      <th>3</th>\n",
       "      <td>0</td>\n",
       "      <td>38</td>\n",
       "      <td>0</td>\n",
       "      <td>1</td>\n",
       "      <td>1</td>\n",
       "      <td>1</td>\n",
       "      <td>0</td>\n",
       "      <td>medium</td>\n",
       "      <td>0.562430</td>\n",
       "      <td>0.562430</td>\n",
       "      <td>-0.050301</td>\n",
       "      <td>-0.037919</td>\n",
       "      <td>-0.626469</td>\n",
       "      <td>0.700499</td>\n",
       "      <td>-1.808067</td>\n",
       "      <td>-0.438263</td>\n",
       "    </tr>\n",
       "    <tr>\n",
       "      <th>4</th>\n",
       "      <td>0</td>\n",
       "      <td>38</td>\n",
       "      <td>0</td>\n",
       "      <td>1</td>\n",
       "      <td>1</td>\n",
       "      <td>1</td>\n",
       "      <td>0</td>\n",
       "      <td>short</td>\n",
       "      <td>-0.498334</td>\n",
       "      <td>-0.498334</td>\n",
       "      <td>-0.480332</td>\n",
       "      <td>-0.177747</td>\n",
       "      <td>-0.617596</td>\n",
       "      <td>0.583146</td>\n",
       "      <td>-1.808067</td>\n",
       "      <td>-0.617604</td>\n",
       "    </tr>\n",
       "  </tbody>\n",
       "</table>\n",
       "</div>"
      ],
      "text/plain": [
       "   Complains  Subscription Length  Charge Amount  Age Group  Tariff Plan  \\\n",
       "0          0                   38              0          3            1   \n",
       "1          0                   39              0          2            1   \n",
       "2          0                   37              0          3            1   \n",
       "3          0                   38              0          1            1   \n",
       "4          0                   38              0          1            1   \n",
       "\n",
       "   Status  Churn number_of_seconds  Call Failure  Call Failure  \\\n",
       "0       1      0            medium      0.259355      0.259355   \n",
       "1       2      0             short     -0.952947     -0.952947   \n",
       "2       1      0             short      0.562430      0.562430   \n",
       "3       1      0            medium      0.562430      0.562430   \n",
       "4       1      0             short     -0.498334     -0.498334   \n",
       "\n",
       "   Seconds of Use  Frequency of use  Frequency of SMS  \\\n",
       "0       -0.009323          0.049473         -0.590976   \n",
       "1       -0.974688         -1.104107         -0.573229   \n",
       "2       -0.466037         -0.142790          2.550174   \n",
       "3       -0.050301         -0.037919         -0.626469   \n",
       "4       -0.480332         -0.177747         -0.617596   \n",
       "\n",
       "   Distinct Called Numbers       Age  Customer Value  \n",
       "0                -0.355673 -0.040436       -0.518935  \n",
       "1                -1.118464 -0.629646       -0.807518  \n",
       "2                 0.055060 -0.040436        2.029655  \n",
       "3                 0.700499 -1.808067       -0.438263  \n",
       "4                 0.583146 -1.808067       -0.617604  "
      ]
     },
     "execution_count": 24,
     "metadata": {},
     "output_type": "execute_result"
    }
   ],
   "source": [
    "tele=tele.drop(columns=num_col, axis=1)\n",
    "tele=tele.merge(scaled,left_index=True, right_index=True, how='left')\n",
    "tele.head()"
   ]
  },
  {
   "cell_type": "code",
   "execution_count": 25,
   "id": "ef59f117-9eae-49d3-a8e9-00ea52cb583a",
   "metadata": {},
   "outputs": [
    {
     "data": {
      "text/html": [
       "<div>\n",
       "<style scoped>\n",
       "    .dataframe tbody tr th:only-of-type {\n",
       "        vertical-align: middle;\n",
       "    }\n",
       "\n",
       "    .dataframe tbody tr th {\n",
       "        vertical-align: top;\n",
       "    }\n",
       "\n",
       "    .dataframe thead th {\n",
       "        text-align: right;\n",
       "    }\n",
       "</style>\n",
       "<table border=\"1\" class=\"dataframe\">\n",
       "  <thead>\n",
       "    <tr style=\"text-align: right;\">\n",
       "      <th></th>\n",
       "      <th>Complains</th>\n",
       "      <th>Subscription Length</th>\n",
       "      <th>Charge Amount</th>\n",
       "      <th>Age Group</th>\n",
       "      <th>Tariff Plan</th>\n",
       "      <th>Status</th>\n",
       "      <th>Churn</th>\n",
       "      <th>number_of_seconds</th>\n",
       "      <th>Call Failure</th>\n",
       "      <th>Call Failure</th>\n",
       "      <th>Seconds of Use</th>\n",
       "      <th>Frequency of use</th>\n",
       "      <th>Frequency of SMS</th>\n",
       "      <th>Distinct Called Numbers</th>\n",
       "      <th>Age</th>\n",
       "      <th>Customer Value</th>\n",
       "    </tr>\n",
       "  </thead>\n",
       "  <tbody>\n",
       "  </tbody>\n",
       "</table>\n",
       "</div>"
      ],
      "text/plain": [
       "Empty DataFrame\n",
       "Columns: [Complains, Subscription Length, Charge Amount, Age Group, Tariff Plan, Status, Churn, number_of_seconds, Call Failure, Call Failure, Seconds of Use, Frequency of use, Frequency of SMS, Distinct Called Numbers, Age, Customer Value]\n",
       "Index: []"
      ]
     },
     "execution_count": 25,
     "metadata": {},
     "output_type": "execute_result"
    }
   ],
   "source": [
    "tele[tele.isnull().any(axis=1)]"
   ]
  },
  {
   "cell_type": "code",
   "execution_count": 26,
   "id": "b0b0038d-dbab-4844-af66-c4f75c6c6acd",
   "metadata": {},
   "outputs": [],
   "source": [
    "tele=tele.drop(['number_of_seconds'], axis=1)"
   ]
  },
  {
   "cell_type": "code",
   "execution_count": 27,
   "id": "decbc2b8-66e1-4bde-bd3f-7a7f96e1e88b",
   "metadata": {},
   "outputs": [],
   "source": [
    "X=tele.drop(['Churn'], axis=1)\n",
    "y=tele.Churn"
   ]
  },
  {
   "cell_type": "code",
   "execution_count": 28,
   "id": "28d69200-df6b-43a2-bfff-02ce083983f3",
   "metadata": {},
   "outputs": [],
   "source": [
    "X_train, X_test, y_train, y_test=train_test_split(X, y, test_size=0.3)"
   ]
  },
  {
   "cell_type": "code",
   "execution_count": 29,
   "id": "90f8b718-2a3b-4381-b1f5-bdcb064f70c4",
   "metadata": {},
   "outputs": [],
   "source": [
    "from sklearn.linear_model import LogisticRegression\n",
    "from sklearn.neighbors import KNeighborsClassifier\n",
    "from sklearn.tree import DecisionTreeClassifier\n",
    "from sklearn.ensemble import RandomForestClassifier\n",
    "from sklearn.ensemble import GradientBoostingClassifier\n",
    "from sklearn.metrics import classification_report\n",
    "from sklearn.metrics import confusion_matrix"
   ]
  },
  {
   "cell_type": "code",
   "execution_count": 30,
   "id": "ecee93d4-d02f-4e58-8343-321c2b54f070",
   "metadata": {},
   "outputs": [],
   "source": [
    "models=[]\n",
    "lg=LogisticRegression()\n",
    "KNN=KNeighborsClassifier()\n",
    "Dst=DecisionTreeClassifier()\n",
    "RF=RandomForestClassifier()\n",
    "GB=GradientBoostingClassifier()\n",
    "models.append(lg)\n",
    "models.append( KNN)\n",
    "models.append( Dst)\n",
    "models.append( RF)\n",
    "models.append( GB)"
   ]
  },
  {
   "cell_type": "code",
   "execution_count": 31,
   "id": "9b369bfb-d57e-40f0-aa15-aa1fc7d83f16",
   "metadata": {},
   "outputs": [
    {
     "data": {
      "text/plain": [
       "[LogisticRegression(),\n",
       " KNeighborsClassifier(),\n",
       " DecisionTreeClassifier(),\n",
       " RandomForestClassifier(),\n",
       " GradientBoostingClassifier()]"
      ]
     },
     "execution_count": 31,
     "metadata": {},
     "output_type": "execute_result"
    }
   ],
   "source": [
    "models"
   ]
  },
  {
   "cell_type": "code",
   "execution_count": 32,
   "id": "12e848cb-fcc3-4968-849c-40bb4ee39fa1",
   "metadata": {},
   "outputs": [
    {
     "name": "stderr",
     "output_type": "stream",
     "text": [
      "/home/eyosi/anaconda3/lib/python3.9/site-packages/sklearn/linear_model/_logistic.py:814: ConvergenceWarning: lbfgs failed to converge (status=1):\n",
      "STOP: TOTAL NO. of ITERATIONS REACHED LIMIT.\n",
      "\n",
      "Increase the number of iterations (max_iter) or scale the data as shown in:\n",
      "    https://scikit-learn.org/stable/modules/preprocessing.html\n",
      "Please also refer to the documentation for alternative solver options:\n",
      "    https://scikit-learn.org/stable/modules/linear_model.html#logistic-regression\n",
      "  n_iter_i = _check_optimize_result(\n"
     ]
    },
    {
     "name": "stdout",
     "output_type": "stream",
     "text": [
      "              precision    recall  f1-score   support\n",
      "\n",
      "           0       0.90      0.98      0.94       357\n",
      "           1       0.82      0.46      0.59        72\n",
      "\n",
      "    accuracy                           0.89       429\n",
      "   macro avg       0.86      0.72      0.76       429\n",
      "weighted avg       0.89      0.89      0.88       429\n",
      " LogisticRegression()\n",
      "[[350   7]\n",
      " [ 39  33]]\n",
      "              precision    recall  f1-score   support\n",
      "\n",
      "           0       0.90      0.98      0.94       357\n",
      "           1       0.83      0.49      0.61        72\n",
      "\n",
      "    accuracy                           0.90       429\n",
      "   macro avg       0.87      0.73      0.78       429\n",
      "weighted avg       0.89      0.90      0.89       429\n",
      " KNeighborsClassifier()\n",
      "[[350   7]\n",
      " [ 37  35]]\n",
      "              precision    recall  f1-score   support\n",
      "\n",
      "           0       0.95      0.96      0.95       357\n",
      "           1       0.78      0.75      0.77        72\n",
      "\n",
      "    accuracy                           0.92       429\n",
      "   macro avg       0.87      0.85      0.86       429\n",
      "weighted avg       0.92      0.92      0.92       429\n",
      " DecisionTreeClassifier()\n",
      "[[342  15]\n",
      " [ 18  54]]\n",
      "              precision    recall  f1-score   support\n",
      "\n",
      "           0       0.96      0.97      0.97       357\n",
      "           1       0.87      0.81      0.83        72\n",
      "\n",
      "    accuracy                           0.95       429\n",
      "   macro avg       0.91      0.89      0.90       429\n",
      "weighted avg       0.95      0.95      0.95       429\n",
      " RandomForestClassifier()\n",
      "[[348   9]\n",
      " [ 14  58]]\n",
      "              precision    recall  f1-score   support\n",
      "\n",
      "           0       0.96      0.97      0.97       357\n",
      "           1       0.83      0.82      0.83        72\n",
      "\n",
      "    accuracy                           0.94       429\n",
      "   macro avg       0.90      0.89      0.90       429\n",
      "weighted avg       0.94      0.94      0.94       429\n",
      " GradientBoostingClassifier()\n",
      "[[345  12]\n",
      " [ 13  59]]\n"
     ]
    }
   ],
   "source": [
    "for model in models:\n",
    "    clf=model.fit(X_train, y_train)\n",
    "    predictions=model.predict(X_test)\n",
    "    print(classification_report(y_test, predictions) , model)\n",
    "    print(confusion_matrix(y_test, predictions))"
   ]
  },
  {
   "cell_type": "markdown",
   "id": "1665d566-c7d7-41aa-be9e-52a72d5ef045",
   "metadata": {},
   "source": [
    "<h4>from the models above we can see GradientBoostingClassifier has the better accuracy and precision </h4>"
   ]
  },
  {
   "cell_type": "code",
   "execution_count": 33,
   "id": "739293de-993f-4aba-9c2a-cf1052cab759",
   "metadata": {},
   "outputs": [
    {
     "data": {
      "text/plain": [
       "GradientBoostingClassifier()"
      ]
     },
     "execution_count": 33,
     "metadata": {},
     "output_type": "execute_result"
    }
   ],
   "source": [
    "GB.fit(X_train, y_train)"
   ]
  },
  {
   "cell_type": "code",
   "execution_count": 36,
   "id": "deff17ef-904f-4c0f-a711-30816696aeae",
   "metadata": {},
   "outputs": [],
   "source": [
    "importances = GB.feature_importances_\n",
    "#\n",
    "# Sort the feature importance in descending order\n",
    "#\n",
    "sorted_indices = np.argsort(importances)[::-1]"
   ]
  },
  {
   "cell_type": "code",
   "execution_count": 37,
   "id": "300e7f2d-aeaf-4936-8137-cfb6b6fcec31",
   "metadata": {},
   "outputs": [
    {
     "data": {
      "image/png": "[encoded data removed]",
      "text/plain": [
       "<Figure size 640x480 with 1 Axes>"
      ]
     },
     "metadata": {},
     "output_type": "display_data"
    }
   ],
   "source": [
    "plt.title('Feature Importance')\n",
    "plt.bar(range(X_train.shape[1]), importances[sorted_indices], align='center')\n",
    "plt.xticks(range(X_train.shape[1]), X_train.columns[sorted_indices], rotation=90)\n",
    "plt.tight_layout()\n",
    "plt.show()"
   ]
  },
  {
   "cell_type": "markdown",
   "id": "0457cac5-19b4-46bd-9f04-7c653ac23c67",
   "metadata": {},
   "source": [
    "* The Model performed better than the baseline comparison model with an accuracy of about 95% versus 85%. More important it correctly classified Customer Churn about 80% of the cases\n",
    "* The most influencial variables related with Churn are: Complains - Status- Susbscription Lenght - Customer Value - Distinct Called Numbers - SMS ratio and Call Failure\n"
   ]
  },
  {
   "cell_type": "markdown",
   "id": "c47bedbf-d57f-40bf-bf07-80dbe4720a69",
   "metadata": {},
   "source": [
    "***Actions that could prevent Churn***\n",
    "* Run the model in the current group of Customers. Identify The customer situation in the likely Churn cases\n",
    "* Taking care on Complains, calling the customers and offering a compensation\n",
    "* Monitor Subcription Lenghts, because most of the Customers Churns appeared at about 32 to 38 months, and offering promotional discounts or benefits. The benefits could have been decided by age group taking on acount SMS vs Calls frequency (see Graphs in Exploratory Analysis)\n",
    "* Tracking Call Failures if it is possible. When Call Failures exceed 5 contact the customer"
   ]
  },
  {
   "cell_type": "code",
   "execution_count": null,
   "id": "b4a78bec-fd20-4248-9004-6fd3d17e6fb7",
   "metadata": {},
   "outputs": [],
   "source": []
  }
 ],
 "metadata": {
  "kernelspec": {
   "display_name": "Python 3 (ipykernel)",
   "language": "python",
   "name": "python3"
  },
  "language_info": {
   "codemirror_mode": {
    "name": "ipython",
    "version": 3
   },
   "file_extension": ".py",
   "mimetype": "text/x-python",
   "name": "python",
   "nbconvert_exporter": "python",
   "pygments_lexer": "ipython3",
   "version": "3.9.13"
  }
 },
 "nbformat": 4,
 "nbformat_minor": 5
}
